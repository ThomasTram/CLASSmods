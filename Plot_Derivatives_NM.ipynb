{
 "cells": [
  {
   "cell_type": "code",
   "execution_count": 1,
   "metadata": {
    "collapsed": true
   },
   "outputs": [],
   "source": [
    "%matplotlib inline\n",
    "import matplotlib\n",
    "import matplotlib.pyplot as plt\n",
    "import numpy as np\n",
    "from scipy.signal import argrelextrema\n",
    "from scipy.interpolate import interp1d\n",
    "from classy import Class"
   ]
  },
  {
   "cell_type": "code",
   "execution_count": null,
   "metadata": {
    "collapsed": false
   },
   "outputs": [],
   "source": [
    "z_pk = [200.0,100.0,75.0,50.0,10.0,5.0,0.0]\n",
    "k_out = [0.0001,0.001, 0.01, 0.1,1]\n",
    "#k_out = [0.0001,0.001]\n",
    "cosmo500 = Class()\n",
    "cosmo500.set({'output':'dTk, lTk', \n",
    "           'z_pk':str(z_pk).strip('[]'),\n",
    "           'k_output_values':str(k_out).strip('[]'),\n",
    "           'a_init_nbody': 1./501.,\n",
    "              'radiation_streaming_approximation':3,\n",
    "           'l_max_g':100,\n",
    "           'l_max_ur':100,\n",
    "           'reio_parametrization':'reio_none',\n",
    "           'k_per_decade_for_pk':2,\n",
    "           'k_per_decade_for_bao':2,\n",
    "           'gauge' : 'Newtonian',\n",
    "           'P_k_max_h/Mpc' : 1.,\n",
    "           'evolver':1,\n",
    "           'tol_perturb_integration':1e-6,\n",
    "           'perturb_sampling_stepsize':0.01,\n",
    "              'tol_background_integration':1e-6,\n",
    "              'back_integration_stepsize':7e-4,\n",
    "           'tight_coupling_trigger_tau_c_over_tau_h':0.0015,\n",
    "           'tight_coupling_trigger_tau_c_over_tau_k':0.0001,\n",
    "            #'start_sources_at_tau_c_over_tau_h':0.0008\n",
    "            })\n",
    "cosmo500.compute()\n",
    "pts = cosmo500.get_perturbations()['scalar']\n",
    "\n",
    "Npt = len(pts)\n",
    "f, axes = plt.subplots(Npt,4,sharex=True,figsize=(14,14))\n",
    "\n",
    "for j in range(Npt):\n",
    "    pt = pts[j]\n",
    "    ax = axes[j]\n",
    "    tau = pt['tau [Mpc]']\n",
    "    \n",
    "    HCtheta = pt['HCtheta']\n",
    "    HCtheta_prime = pt['HCtheta_prime']\n",
    "    \n",
    "    HCtheta_prime_est = np.diff(HCtheta)/np.diff(tau)\n",
    "    \n",
    "    #HCtheta_spl = UnivariateSpline(tau,HCtheta,s=0,k=1)\n",
    "    #HCtheta_prime_spl = HCtheta_spl.derivative()\n",
    "\n",
    "    HCAnb = pt['HCAnb']\n",
    "    HCAnb_prime = pt['HCAnb_prime']\n",
    "    #HCAnb_spl = UnivariateSpline(tau,HCAnb,s=0,k=1)\n",
    "    #HCAnb_prime_spl = HCAnb_spl.derivative()\n",
    "    HCAnb_prime_est = np.diff(HCAnb)/np.diff(tau)\n",
    "\n",
    "    ax[0].semilogy(tau, np.abs(HCtheta))\n",
    "    ax[2].semilogy(tau, np.abs(HCAnb),ls='--')\n",
    "    ax[1].semilogy(tau, np.abs(HCtheta_prime))\n",
    "    ax[1].semilogy(tau[1:], np.abs(HCtheta_prime_est),ls='--',lw=2)\n",
    "    ax[3].semilogy(tau, np.abs(HCAnb_prime))\n",
    "    ax[3].semilogy(tau[1:], np.abs(HCAnb_prime_est),ls='--',lw=2)\n",
    "    \n",
    "    ax[0].set_ylabel(r'$\\mathcal{H}\\theta_p$',fontsize=20)\n",
    "    ax[1].set_ylabel(r'$\\frac{d}{d\\eta}\\left(\\mathcal{H}\\theta_p\\right)$',fontsize=20)\n",
    "    ax[2].set_ylabel(r'$\\mathcal{H}\\xi$',fontsize=20)\n",
    "    ax[3].set_ylabel(r'$\\frac{d}{d\\eta}\\left(\\mathcal{H}\\xi\\right)$',fontsize=20)\n",
    "    \n",
    "    ax[0].locator_params(axis='x',nbins=7)\n",
    "\n",
    "for a in axes[-1]:\n",
    "    a.set_xlabel(r'$\\eta \\quad [Mpc]$',fontsize=20)\n",
    "f.tight_layout()\n",
    "f.savefig('derivatives.pdf')"
   ]
  },
  {
   "cell_type": "code",
   "execution_count": null,
   "metadata": {
    "collapsed": true
   },
   "outputs": [],
   "source": []
  }
 ],
 "metadata": {
  "kernelspec": {
   "display_name": "Python 2",
   "language": "python",
   "name": "python2"
  },
  "language_info": {
   "codemirror_mode": {
    "name": "ipython",
    "version": 2
   },
   "file_extension": ".py",
   "mimetype": "text/x-python",
   "name": "python",
   "nbconvert_exporter": "python",
   "pygments_lexer": "ipython2",
   "version": "2.7.10"
  }
 },
 "nbformat": 4,
 "nbformat_minor": 0
}
