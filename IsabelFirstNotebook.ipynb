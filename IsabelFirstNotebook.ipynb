{
 "cells": [
  {
   "cell_type": "code",
   "execution_count": 1,
   "metadata": {
    "collapsed": true
   },
   "outputs": [],
   "source": [
    "%matplotlib inline\n",
    "import matplotlib\n",
    "import matplotlib.pyplot as plt\n",
    "import numpy as np\n",
    "from classy import Class"
   ]
  },
  {
   "cell_type": "code",
   "execution_count": 2,
   "metadata": {
    "collapsed": true
   },
   "outputs": [],
   "source": [
    "font = {'size'   : 20, 'family':'STIXGeneral'}\n",
    "axislabelfontsize='large'\n",
    "matplotlib.rc('font', **font)\n",
    "matplotlib.mathtext.rcParams['legend.fontsize']='medium'"
   ]
  },
  {
   "cell_type": "markdown",
   "metadata": {
    "collapsed": true
   },
   "source": [
    "cosmo = Class()\n",
    "cosmo.set({'output':'tCl mPk dTk vTk', \n",
    "           'N_ncdm' : 0,\n",
    "           'N_inu': 3.0,\n",
    "           'N_ur' : 0.0,\n",
    "           'YHe' : 0.25,\n",
    "           'k_output_values' : '1e-4, 1e-2, 1.0',\n",
    "           'G_eff' : 1e-7,\n",
    "           'tol_inu_synchronous' : 1e-1})\n",
    "cosmo.compute()"
   ]
  },
  {
   "cell_type": "code",
   "execution_count": 3,
   "metadata": {
    "collapsed": false
   },
   "outputs": [],
   "source": [
    "Standard = Class() \n",
    "Standard.set({'output':'tCl mPk dTk vTk', \n",
    "           'N_ncdm' : 0, \n",
    "           'N_inu': 0.0, \n",
    "           'N_ur' : 3.0, \n",
    "           'YHe' : 0.25, \n",
    "           'k_output_values' : '1e-4, 1e-2, 1.0', \n",
    "           'G_eff' : 0.0, \n",
    "           'tol_inu_synchronous' : 1e-1}) \n",
    "Standard.compute()"
   ]
  },
  {
   "cell_type": "code",
   "execution_count": 4,
   "metadata": {
    "collapsed": true
   },
   "outputs": [],
   "source": [
    "NoInt1 = Class() \n",
    "NoInt1.set({'output':'tCl mPk dTk vTk', \n",
    "           'N_ncdm' : 0, \n",
    "           'N_inu': 3.0, \n",
    "           'N_ur' : 0.0, \n",
    "           'YHe' : 0.25, \n",
    "           'k_output_values' : '1e-4, 1e-2, 1.0', \n",
    "           'G_eff' : 0.0, \n",
    "           'tol_inu_synchronous' : 1e-1}) \n",
    "NoInt1.compute()"
   ]
  },
  {
   "cell_type": "code",
   "execution_count": null,
   "metadata": {
    "collapsed": true
   },
   "outputs": [],
   "source": [
    "NoInt2 = Class() \n",
    "NoInt2.set({'output':'tCl mPk dTk vTk', \n",
    "           'N_ncdm' : 0, \n",
    "           'N_inu': 3.0, \n",
    "           'N_ur' : 0.0, \n",
    "           'YHe' : 0.25, \n",
    "           'k_output_values' : '1e-4, 1e-2, 1.0', \n",
    "           'G_eff' : 0.0, \n",
    "           'tol_inu_synchronous' : 1e-2}) \n",
    "NoInt2.compute()"
   ]
  },
  {
   "cell_type": "code",
   "execution_count": 6,
   "metadata": {
    "collapsed": false
   },
   "outputs": [],
   "source": [
    "Int1 = Class() \n",
    "Int1.set({'output':'tCl mPk dTk vTk', \n",
    "           'N_ncdm' : 0, \n",
    "           'N_inu': 3.0, \n",
    "           'N_ur' : 0.0, \n",
    "           'YHe' : 0.25, \n",
    "           'k_output_values' : '1e-4, 1e-2, 1.0', \n",
    "           'G_eff' : 1e-12, \n",
    "           'tol_inu_synchronous' : 1e-1}) \n",
    "Int1.compute()"
   ]
  },
  {
   "cell_type": "code",
   "execution_count": 5,
   "metadata": {
    "collapsed": false
   },
   "outputs": [],
   "source": [
    "Int2 = Class() \n",
    "Int2.set({'output':'tCl mPk dTk vTk', \n",
    "           'N_ncdm' : 0, \n",
    "           'N_inu': 3.0, \n",
    "           'N_ur' : 0.0, \n",
    "           'YHe' : 0.25, \n",
    "           'k_output_values' : '1e-4, 1e-2, 1.0', \n",
    "           'G_eff' : 1e-8, \n",
    "           'tol_inu_synchronous' : 1e-1}) \n",
    "Int2.compute()"
   ]
  },
  {
   "cell_type": "code",
   "execution_count": null,
   "metadata": {
    "collapsed": false
   },
   "outputs": [],
   "source": [
    "Int3 = Class() \n",
    "Int3.set({'output':'tCl mPk dTk vTk', \n",
    "           'N_ncdm' : 0, \n",
    "           'N_inu': 3.0, \n",
    "           'N_ur' : 0.0, \n",
    "           'YHe' : 0.25, \n",
    "           'k_output_values' : '1e-4, 1e-2, 1.0', \n",
    "           'G_eff' : 1e-8, \n",
    "           'tol_inu_synchronous' : 1e-1}) \n",
    "Int3.compute()"
   ]
  },
  {
   "cell_type": "code",
   "execution_count": null,
   "metadata": {
    "collapsed": false
   },
   "outputs": [],
   "source": [
    "Int4 = Class() \n",
    "Int4.set({'output':'tCl mPk dTk vTk', \n",
    "           'N_ncdm' : 0, \n",
    "           'N_inu': 3.0, \n",
    "           'N_ur' : 0.0, \n",
    "           'YHe' : 0.25, \n",
    "           'k_output_values' : '1e-4, 1e-2, 1.0', \n",
    "           'G_eff' : 1e-7, \n",
    "           'tol_inu_synchronous' : 1e-1}) \n",
    "Int4.compute()"
   ]
  },
  {
   "cell_type": "code",
   "execution_count": null,
   "metadata": {
    "collapsed": false
   },
   "outputs": [],
   "source": [
    "clStandard = Standard.raw_cl()\n",
    "clNoInt1 = NoInt1.raw_cl()\n",
    "clNoInt2 = NoInt2.raw_cl()\n",
    "l = clStandard['ell']\n",
    "\n",
    "plt.plot(l,l*(l+1)/(2.*np.pi)*clStandard['tt'],l,l*(l+1)/(2.*np.pi)*clNoInt1['tt'],l,l*(l+1)/(2.*np.pi)*clNoInt2['tt'])\n",
    "\n",
    "plt.xlim([2,2500])\n",
    "plt.xlabel(r\"$\\ell$\")\n",
    "plt.ylabel(r\"$C_\\ell$\")"
   ]
  },
  {
   "cell_type": "code",
   "execution_count": 8,
   "metadata": {
    "collapsed": false
   },
   "outputs": [
    {
     "data": {
      "text/plain": [
       "<matplotlib.text.Text at 0x7fad89d49dd0>"
      ]
     },
     "execution_count": 8,
     "metadata": {},
     "output_type": "execute_result"
    },
    {
     "data": {
      "image/png": "[encoded data removed]",
      "text/plain": [
       "<matplotlib.figure.Figure at 0x7fad8e1c5a90>"
      ]
     },
     "metadata": {},
     "output_type": "display_data"
    }
   ],
   "source": [
    "clStandard = Standard.raw_cl()\n",
    "clNoInt1 = NoInt1.raw_cl()\n",
    "clInt2 = Int2.raw_cl()\n",
    "#clNoInt2 = NoInt2.raw_cl()\n",
    "l = clStandard['ell']\n",
    "\n",
    "plt.plot(l,l*(l+1)/(2.*np.pi)*clNoInt1['tt'],l,l*(l+1)/(2.*np.pi)*clStandard['tt'],l,l*(l+1)/(2.*np.pi)*clInt2['tt'])\n",
    "\n",
    "plt.xlim([2,2500])\n",
    "plt.xlabel(r\"$\\ell$\")\n",
    "plt.ylabel(r\"$C_\\ell$\")"
   ]
  },
  {
   "cell_type": "code",
   "execution_count": null,
   "metadata": {
    "collapsed": false
   },
   "outputs": [],
   "source": [
    "clInt1 = Int1.raw_cl()\n",
    "clInt2 = Int2.raw_cl()\n",
    "clInt3 = Int3.raw_cl()\n",
    "clInt4 = Int4.raw_cl()\n",
    "l = clInt1['ell']\n",
    "\n",
    "plt.plot(l,l*(l+1)/(2.*np.pi)*clInt1['tt'],l,l*(l+1)/(2.*np.pi)*clInt2['tt'],l,l*(l+1)/(2.*np.pi)*clInt3['tt'],l,l*(l+1)/(2.*np.pi)*clInt3['tt'],l,l*(l+1)/(2.*np.pi)*clInt4['tt'])\n",
    "\n",
    "plt.xlim([2,2500])\n",
    "plt.xlabel(r\"$\\ell$\")\n",
    "plt.ylabel(r\"$C_\\ell$\")"
   ]
  },
  {
   "cell_type": "code",
   "execution_count": null,
   "metadata": {
    "collapsed": false
   },
   "outputs": [],
   "source": [
    "NoInt1.get_background();"
   ]
  },
  {
   "cell_type": "code",
   "execution_count": null,
   "metadata": {
    "collapsed": true
   },
   "outputs": [],
   "source": []
  }
 ],
 "metadata": {
  "kernelspec": {
   "display_name": "Python 2",
   "language": "python",
   "name": "python2"
  },
  "language_info": {
   "codemirror_mode": {
    "name": "ipython",
    "version": 2
   },
   "file_extension": ".py",
   "mimetype": "text/x-python",
   "name": "python",
   "nbconvert_exporter": "python",
   "pygments_lexer": "ipython2",
   "version": "2.7.11"
  }
 },
 "nbformat": 4,
 "nbformat_minor": 0
}
