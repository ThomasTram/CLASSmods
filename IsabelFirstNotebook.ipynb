{
 "cells": [
  {
   "cell_type": "code",
   "execution_count": 1,
   "metadata": {
    "collapsed": true
   },
   "outputs": [],
   "source": [
    "%matplotlib inline\n",
    "import matplotlib\n",
    "import matplotlib.pyplot as plt\n",
    "import numpy as np\n",
    "from classy import Class"
   ]
  },
  {
   "cell_type": "code",
   "execution_count": 2,
   "metadata": {
    "collapsed": true
   },
   "outputs": [],
   "source": [
    "font = {'size'   : 20, 'family':'STIXGeneral'}\n",
    "axislabelfontsize='large'\n",
    "matplotlib.rc('font', **font)\n",
    "matplotlib.mathtext.rcParams['legend.fontsize']='medium'"
   ]
  },
  {
   "cell_type": "code",
   "execution_count": 3,
   "metadata": {
    "collapsed": true
   },
   "outputs": [],
   "source": [
    "Nbins_inu = 10"
   ]
  },
  {
   "cell_type": "markdown",
   "metadata": {
    "collapsed": true
   },
   "source": [
    "cosmo = Class()\n",
    "cosmo.set({'output':'tCl mPk dTk vTk', \n",
    "           'N_ncdm' : 0,\n",
    "           'N_inu': 3.0,\n",
    "           'N_ur' : 0.0,\n",
    "           'YHe' : 0.25,\n",
    "           'k_output_values' : '1e-4, 1e-2, 1.0',\n",
    "           'G_eff' : 1e-7,\n",
    "           'tol_inu_synchronous' : 1e-1})\n",
    "cosmo.compute()"
   ]
  },
  {
   "cell_type": "code",
   "execution_count": 4,
   "metadata": {
    "collapsed": false
   },
   "outputs": [],
   "source": [
    "Standard = Class() \n",
    "Standard.set({'output':'tCl mPk dTk vTk', \n",
    "           'N_ncdm' : 0, \n",
    "           'N_inu': 0.0, \n",
    "           'N_ur' : 3.0, \n",
    "           'YHe' : 0.25, \n",
    "           'k_output_values' : '1e-4, 1e-2, 1.0', \n",
    "           'G_eff' : 0.0, \n",
    "           'tol_inu_synchronous' : Nbins_inu}) \n",
    "Standard.compute()"
   ]
  },
  {
   "cell_type": "code",
   "execution_count": 5,
   "metadata": {
    "collapsed": false
   },
   "outputs": [],
   "source": [
    "NoInt1 = Class() \n",
    "NoInt1.set({'output':'tCl mPk dTk vTk', \n",
    "           'N_ncdm' : 0, \n",
    "           #'N_inu': 3.15646475947, \n",
    "           'N_inu': 3.0, \n",
    "           'N_ur' : 0.0, \n",
    "           'YHe' : 0.25, \n",
    "           'k_output_values' : '1e-4, 1e-2, 1.0', \n",
    "           'G_eff' : 0.0, \n",
    "           'tol_inu_synchronous' : 10,\n",
    "           #'l_max_inu':50\n",
    "           }) \n",
    "NoInt1.compute()"
   ]
  },
  {
   "cell_type": "code",
   "execution_count": 8,
   "metadata": {
    "collapsed": true
   },
   "outputs": [],
   "source": [
    "NoInt2 = Class() \n",
    "NoInt2.set({'output':'tCl mPk dTk vTk', \n",
    "           'N_ncdm' : 0, \n",
    "           #'N_inu': 3.15646475947, \n",
    "           'N_inu': 3.0, \n",
    "           'N_ur' : 0.0, \n",
    "           'YHe' : 0.25, \n",
    "           'k_output_values' : '1e-4, 1e-2, 1.0', \n",
    "           'G_eff' : 0.0, \n",
    "           'tol_inu_synchronous' : 15,\n",
    "           #'l_max_inu':50\n",
    "           }) \n",
    "NoInt2.compute()"
   ]
  },
  {
   "cell_type": "code",
   "execution_count": 13,
   "metadata": {
    "collapsed": false
   },
   "outputs": [],
   "source": [
    "Int1 = Class() \n",
    "Int1.set({'output':'tCl mPk dTk vTk', \n",
    "           'N_ncdm' : 0, \n",
    "           'N_inu': 3.0, \n",
    "           'N_ur' : 0.0, \n",
    "           'YHe' : 0.25, \n",
    "           'k_output_values' : '1e-4, 1e-2, 1.0', \n",
    "           'G_eff' : 1e-5, \n",
    "           'tol_inu_synchronous' : Nbins_inu}) \n",
    "Int1.compute()"
   ]
  },
  {
   "cell_type": "code",
   "execution_count": 26,
   "metadata": {
    "collapsed": false
   },
   "outputs": [
    {
     "ename": "CosmoComputationError",
     "evalue": "\n\nError in Class: perturb_init(L:366) :error in perturb_solve(ppr, pba, pth, ppt, index_md, index_ic, index_k, pppw[thread]);\n=>perturb_solve(L:2403) :error in generic_evolver(perturb_derivs, interval_limit[index_interval], interval_limit[index_interval+1], ppw->pv->y, ppw->pv->used_in_sources, ppw->pv->pt_size, &ppaw, ppr->tol_perturb_integration, ppr->smallest_allowed_variation, perturb_timescale, ppr->perturb_integration_stepsize, ppt->tau_sampling, tau_actual_size, perturb_sources, perhaps_print_variables, ppt->error_message);\n=>evolver_ndf15(L:492) :condition (absh <= hmin) is true; Step size too small: step:2.22045e-16, minimum:2.22045e-16, in interval: [29.4078:365.245]\n",
     "output_type": "error",
     "traceback": [
      "\u001b[0;31m---------------------------------------------------------------------------\u001b[0m",
      "\u001b[0;31mCosmoComputationError\u001b[0m                     Traceback (most recent call last)",
      "\u001b[0;32m<ipython-input-26-8c7cacb2c4d4>\u001b[0m in \u001b[0;36m<module>\u001b[0;34m()\u001b[0m\n\u001b[1;32m      8\u001b[0m            \u001b[0;34m'G_eff'\u001b[0m \u001b[0;34m:\u001b[0m \u001b[0;36m1e-4\u001b[0m\u001b[0;34m,\u001b[0m\u001b[0;34m\u001b[0m\u001b[0m\n\u001b[1;32m      9\u001b[0m            'tol_inu_synchronous' : 20}) \n\u001b[0;32m---> 10\u001b[0;31m \u001b[0mInt2\u001b[0m\u001b[0;34m.\u001b[0m\u001b[0mcompute\u001b[0m\u001b[0;34m(\u001b[0m\u001b[0;34m)\u001b[0m\u001b[0;34m\u001b[0m\u001b[0m\n\u001b[0m",
      "\u001b[0;32mclassy.pyx\u001b[0m in \u001b[0;36mclassy.Class.compute (classy.c:4936)\u001b[0;34m()\u001b[0m\n",
      "\u001b[0;31mCosmoComputationError\u001b[0m: \n\nError in Class: perturb_init(L:366) :error in perturb_solve(ppr, pba, pth, ppt, index_md, index_ic, index_k, pppw[thread]);\n=>perturb_solve(L:2403) :error in generic_evolver(perturb_derivs, interval_limit[index_interval], interval_limit[index_interval+1], ppw->pv->y, ppw->pv->used_in_sources, ppw->pv->pt_size, &ppaw, ppr->tol_perturb_integration, ppr->smallest_allowed_variation, perturb_timescale, ppr->perturb_integration_stepsize, ppt->tau_sampling, tau_actual_size, perturb_sources, perhaps_print_variables, ppt->error_message);\n=>evolver_ndf15(L:492) :condition (absh <= hmin) is true; Step size too small: step:2.22045e-16, minimum:2.22045e-16, in interval: [29.4078:365.245]\n"
     ]
    }
   ],
   "source": [
    "Int2 = Class() \n",
    "Int2.set({'output':'tCl mPk dTk vTk', \n",
    "           'N_ncdm' : 0, \n",
    "           'N_inu': 3.0, \n",
    "           'N_ur' : 0.0, \n",
    "           'YHe' : 0.25, \n",
    "           'k_output_values' : '1e-4, 1e-2, 1.0', \n",
    "           'G_eff' : 4e-5, \n",
    "           'tol_inu_synchronous' : 20}) \n",
    "Int2.compute()"
   ]
  },
  {
   "cell_type": "code",
   "execution_count": 9,
   "metadata": {
    "collapsed": false
   },
   "outputs": [],
   "source": [
    "Int3 = Class() \n",
    "Int3.set({'output':'tCl mPk dTk vTk', \n",
    "           'N_ncdm' : 0, \n",
    "           'N_inu': 3.0, \n",
    "           'N_ur' : 0.0, \n",
    "           'YHe' : 0.25, \n",
    "           'k_output_values' : '1e-4, 1e-2, 1.0', \n",
    "           'G_eff' : 1e-11, \n",
    "           'tol_inu_synchronous' : Nbins_inu}) \n",
    "Int3.compute()"
   ]
  },
  {
   "cell_type": "code",
   "execution_count": 10,
   "metadata": {
    "collapsed": false
   },
   "outputs": [
    {
     "ename": "CosmoSevereError",
     "evalue": "\n\nError in Class: Class did not read input parameter(s): G_eff, tol_inu_synchronous, evolverN_inu\n",
     "output_type": "error",
     "traceback": [
      "\u001b[0;31m---------------------------------------------------------------------------\u001b[0m",
      "\u001b[0;31mCosmoSevereError\u001b[0m                          Traceback (most recent call last)",
      "\u001b[0;32m<ipython-input-10-31db7b05c6d8>\u001b[0m in \u001b[0;36m<module>\u001b[0;34m()\u001b[0m\n\u001b[1;32m      9\u001b[0m            \u001b[0;34m'G_eff'\u001b[0m \u001b[0;34m:\u001b[0m \u001b[0;36m1e-9\u001b[0m\u001b[0;34m,\u001b[0m\u001b[0;34m\u001b[0m\u001b[0m\n\u001b[1;32m     10\u001b[0m            'tol_inu_synchronous' : Nbins_inu}) \n\u001b[0;32m---> 11\u001b[0;31m \u001b[0mInt4\u001b[0m\u001b[0;34m.\u001b[0m\u001b[0mcompute\u001b[0m\u001b[0;34m(\u001b[0m\u001b[0;34m)\u001b[0m\u001b[0;34m\u001b[0m\u001b[0m\n\u001b[0m",
      "\u001b[0;32mclassy.pyx\u001b[0m in \u001b[0;36mclassy.Class.compute (classy.c:4623)\u001b[0;34m()\u001b[0m\n",
      "\u001b[0;31mCosmoSevereError\u001b[0m: \n\nError in Class: Class did not read input parameter(s): G_eff, tol_inu_synchronous, evolverN_inu\n"
     ]
    }
   ],
   "source": [
    "Int4 = Class() \n",
    "Int4.set({'output':'tCl mPk dTk vTk', \n",
    "           'N_ncdm' : 0,\n",
    "          'evolver':0,\n",
    "           'N_inu': 3.0, \n",
    "           'N_ur' : 0.0, \n",
    "           'YHe' : 0.25, \n",
    "           'k_output_values' : '1e-4, 1e-2, 1.0', \n",
    "           'G_eff' : 1e-9, \n",
    "           'tol_inu_synchronous' : Nbins_inu}) \n",
    "Int4.compute()"
   ]
  },
  {
   "cell_type": "code",
   "execution_count": 9,
   "metadata": {
    "collapsed": false
   },
   "outputs": [
    {
     "data": {
      "text/plain": [
       "(0.997, 1.003)"
      ]
     },
     "execution_count": 9,
     "metadata": {},
     "output_type": "execute_result"
    },
    {
     "data": {
      "image/png": "[encoded data removed]",
      "text/plain": [
       "<matplotlib.figure.Figure at 0x108d63cd0>"
      ]
     },
     "metadata": {},
     "output_type": "display_data"
    }
   ],
   "source": [
    "#PlotModels = ['Standard', 'NoInt1', 'Int1', 'Int2', 'Int3']\n",
    "#PlotModels = ['NoInt1', 'Int1', 'Int2', 'Int3']\n",
    "PlotModels = ['Standard','NoInt1','NoInt2']\n",
    "RefModel = 'Standard'\n",
    "\n",
    "for M in PlotModels:\n",
    "    exec('cosmo = '+M)\n",
    "    exec('ref = '+RefModel)\n",
    "    cl = cosmo.raw_cl()\n",
    "    clref = ref.raw_cl()\n",
    "    l = cl['ell'][2:]\n",
    "    plt.plot(l,cl['tt'][2:]/clref['tt'][2:])\n",
    "plt.ylim([0.997,1.003])\n"
   ]
  },
  {
   "cell_type": "code",
   "execution_count": 25,
   "metadata": {
    "collapsed": false
   },
   "outputs": [
    {
     "data": {
      "text/plain": [
       "(0.997, 1.003)"
      ]
     },
     "execution_count": 25,
     "metadata": {},
     "output_type": "execute_result"
    },
    {
     "data": {
      "image/png": "[encoded data removed]",
      "text/plain": [
       "<matplotlib.figure.Figure at 0x12f8f1210>"
      ]
     },
     "metadata": {},
     "output_type": "display_data"
    }
   ],
   "source": [
    "#PlotModels = ['Standard', 'NoInt1', 'Int1', 'Int2', 'Int3']\n",
    "#PlotModels = ['NoInt1', 'Int1', 'Int2', 'Int3']\n",
    "PlotModels = ['NoInt1','Int1','Int2']\n",
    "RefModel = 'NoInt1'\n",
    "\n",
    "for M in PlotModels:\n",
    "    exec('cosmo = '+M)\n",
    "    exec('ref = '+RefModel)\n",
    "    cl = cosmo.raw_cl()\n",
    "    clref = ref.raw_cl()\n",
    "    l = cl['ell'][2:]\n",
    "    plt.plot(l,cl['tt'][2:]/clref['tt'][2:])\n",
    "plt.ylim([0.997,1.003])"
   ]
  },
  {
   "cell_type": "code",
   "execution_count": null,
   "metadata": {
    "collapsed": true
   },
   "outputs": [],
   "source": [
    "PlotModels = ['Standard', 'NoInt1', 'NoInt2', 'Int1', 'Int2', 'Int3']\n",
    "refmodel = \n",
    "\n",
    "for M in PlotModels:\n",
    "    exec('cosmo = '+M)\n",
    "    cl = cosmo.raw_cl()\n",
    "    l = cl['ell']\n",
    "    plt.plot(l,l*(l+1)/(2.*np.pi)*cl['tt'])"
   ]
  },
  {
   "cell_type": "code",
   "execution_count": null,
   "metadata": {
    "collapsed": false
   },
   "outputs": [],
   "source": [
    "clStandard = Standard.raw_cl()\n",
    "clNoInt1 = NoInt1.raw_cl()\n",
    "clNoInt2 = NoInt2.raw_cl()\n",
    "l = clStandard['ell']\n",
    "\n",
    "plt.plot(l,l*(l+1)/(2.*np.pi)*clStandard['tt'],l,l*(l+1)/(2.*np.pi)*clNoInt1['tt'],l,l*(l+1)/(2.*np.pi)*clNoInt2['tt'])\n",
    "\n",
    "plt.xlim([2,2500])\n",
    "plt.xlabel(r\"$\\ell$\")\n",
    "plt.ylabel(r\"$C_\\ell$\")"
   ]
  },
  {
   "cell_type": "code",
   "execution_count": 8,
   "metadata": {
    "collapsed": false
   },
   "outputs": [
    {
     "data": {
      "text/plain": [
       "<matplotlib.text.Text at 0x7fad89d49dd0>"
      ]
     },
     "execution_count": 8,
     "metadata": {},
     "output_type": "execute_result"
    },
    {
     "data": {
      "image/png": "[encoded data removed]",
      "text/plain": [
       "<matplotlib.figure.Figure at 0x7fad8e1c5a90>"
      ]
     },
     "metadata": {},
     "output_type": "display_data"
    }
   ],
   "source": [
    "clStandard = Standard.raw_cl()\n",
    "clNoInt1 = NoInt1.raw_cl()\n",
    "clInt2 = Int2.raw_cl()\n",
    "#clNoInt2 = NoInt2.raw_cl()\n",
    "l = clStandard['ell']\n",
    "\n",
    "plt.plot(l,l*(l+1)/(2.*np.pi)*clNoInt1['tt'],l,l*(l+1)/(2.*np.pi)*clStandard['tt'],l,l*(l+1)/(2.*np.pi)*clInt2['tt'])\n",
    "\n",
    "plt.xlim([2,2500])\n",
    "plt.xlabel(r\"$\\ell$\")\n",
    "plt.ylabel(r\"$C_\\ell$\")"
   ]
  },
  {
   "cell_type": "code",
   "execution_count": null,
   "metadata": {
    "collapsed": false
   },
   "outputs": [],
   "source": [
    "clInt1 = Int1.raw_cl()\n",
    "clInt2 = Int2.raw_cl()\n",
    "clInt3 = Int3.raw_cl()\n",
    "clInt4 = Int4.raw_cl()\n",
    "l = clInt1['ell']\n",
    "\n",
    "plt.plot(l,l*(l+1)/(2.*np.pi)*clInt1['tt'],l,l*(l+1)/(2.*np.pi)*clInt2['tt'],l,l*(l+1)/(2.*np.pi)*clInt3['tt'],l,l*(l+1)/(2.*np.pi)*clInt3['tt'],l,l*(l+1)/(2.*np.pi)*clInt4['tt'])\n",
    "\n",
    "plt.xlim([2,2500])\n",
    "plt.xlabel(r\"$\\ell$\")\n",
    "plt.ylabel(r\"$C_\\ell$\")"
   ]
  },
  {
   "cell_type": "code",
   "execution_count": null,
   "metadata": {
    "collapsed": false
   },
   "outputs": [],
   "source": [
    "NoInt1.get_background();"
   ]
  },
  {
   "cell_type": "code",
   "execution_count": null,
   "metadata": {
    "collapsed": true
   },
   "outputs": [],
   "source": []
  }
 ],
 "metadata": {
  "kernelspec": {
   "display_name": "Python 2",
   "language": "python",
   "name": "python2"
  },
  "language_info": {
   "codemirror_mode": {
    "name": "ipython",
    "version": 2
   },
   "file_extension": ".py",
   "mimetype": "text/x-python",
   "name": "python",
   "nbconvert_exporter": "python",
   "pygments_lexer": "ipython2",
   "version": "2.7.10"
  }
 },
 "nbformat": 4,
 "nbformat_minor": 0
}
