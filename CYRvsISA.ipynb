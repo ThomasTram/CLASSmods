{
 "cells": [
  {
   "cell_type": "code",
   "execution_count": 1,
   "metadata": {
    "collapsed": false
   },
   "outputs": [],
   "source": [
    "%matplotlib inline\n",
    "import matplotlib\n",
    "import matplotlib.pyplot as plt\n",
    "import numpy as np\n",
    "from classy import Class"
   ]
  },
  {
   "cell_type": "code",
   "execution_count": 2,
   "metadata": {
    "collapsed": true
   },
   "outputs": [],
   "source": [
    "font = {'size'   : 20, 'family':'STIXGeneral'}\n",
    "axislabelfontsize='large'\n",
    "matplotlib.rc('font', **font)\n",
    "matplotlib.mathtext.rcParams['legend.fontsize']='medium'"
   ]
  },
  {
   "cell_type": "code",
   "execution_count": 3,
   "metadata": {
    "collapsed": true
   },
   "outputs": [],
   "source": [
    "Nbins_inu = 10\n",
    "Nbins2_inu = 20\n",
    "Nbins3_inu = 30\n",
    "Nbins4_inu = 40\n",
    "Nbins5_inu = 50\n",
    "Nbins6_inu = 60\n",
    "G_eff_vec = [1e-4, 1e-3, 1e-2, 1e-1]\n",
    "cvis2_vec = [1./4., 1./8.,0]\n",
    "qmax"
   ]
  },
  {
   "cell_type": "code",
   "execution_count": 4,
   "metadata": {
    "collapsed": false
   },
   "outputs": [],
   "source": [
    "Standard = Class() \n",
    "Standard.set({'output':'tCl mPk dTk vTk', \n",
    "           'N_ncdm' : 0, \n",
    "           'N_inu': 0.0, \n",
    "           'N_ur' : 3.00, \n",
    "           'YHe' : 0.25, \n",
    "           'k_output_values' : '1e-4, 1e-2, 1.0', \n",
    "           'G_eff' : 0.0, \n",
    "           'tol_inu_synchronous' : Nbins_inu,\n",
    "             'ur_fluid_approximation':3,\n",
    "             'radiation_streaming_approximation':3,\n",
    "              'background_verbose':5\n",
    "             }) \n",
    "Standard.compute()"
   ]
  },
  {
   "cell_type": "code",
   "execution_count": 5,
   "metadata": {
    "collapsed": false
   },
   "outputs": [
    {
     "name": "stdout",
     "output_type": "stream",
     "text": [
      "<built-in method Neff of classy.Class object at 0x38a6720>\n"
     ]
    }
   ],
   "source": [
    "NoInt = Class() \n",
    "NoInt.set({'output':'tCl mPk dTk vTk',\n",
    "          'evolver':1,\n",
    "           'N_ncdm' : 0, \n",
    "           'N_inu': 3.00, \n",
    "           'N_ur' : 0.0, \n",
    "           'YHe' : 0.25, \n",
    "           'k_output_values' : '1e-4, 1e-2, 1.0', \n",
    "           'G_eff' : 0., \n",
    "           'tol_inu_synchronous' : 10,\n",
    "           'l_max_inu':15,\n",
    "           'qmax_inu':12.,\n",
    "           'qmin_inu':0.1,\n",
    "           'quadrature_method_inu':1,\n",
    "#          'tol_perturb_integration':10000,\n",
    "           'perturbations_verbose':3,\n",
    "           'background_verbose':1,\n",
    "           'input_verbose':1})\n",
    "NoInt.compute()\n",
    "print NoInt.Neff"
   ]
  },
  {
   "cell_type": "code",
   "execution_count": 6,
   "metadata": {
    "collapsed": false
   },
   "outputs": [
    {
     "data": {
      "text/plain": [
       "<matplotlib.legend.Legend at 0x7f55661db2d0>"
      ]
     },
     "execution_count": 6,
     "metadata": {},
     "output_type": "execute_result"
    },
    {
     "data": {
      "image/png": "[encoded data removed]",
      "text/plain": [
       "<matplotlib.figure.Figure at 0x7f55661db310>"
      ]
     },
     "metadata": {},
     "output_type": "display_data"
    }
   ],
   "source": [
    "PlotModels = ['Standard','NoInt']\n",
    "RefModel = 'Standard'\n",
    "\n",
    "for M in PlotModels:\n",
    "    exec('cosmo = '+M)\n",
    "    exec('ref = '+RefModel)\n",
    "    cl = cosmo.raw_cl()\n",
    "    clref = ref.raw_cl()\n",
    "    l = cl['ell'][2:]\n",
    "    plt.plot(l,cl['tt'][2:]/clref['tt'][2:],label=M)\n",
    "plt.ylim([0.996,1.006])\n",
    "plt.legend(loc='lower left')\n",
    "#plt.savefig(\"StandardNoInt.pdf\", bbox_inches='tight')"
   ]
  },
  {
   "cell_type": "markdown",
   "metadata": {
    "collapsed": true
   },
   "source": [
    "cosmo = Class()\n",
    "cosmo.set({'output':'tCl mPk dTk vTk', \n",
    "           'N_ncdm' : 0,\n",
    "           'N_inu': 3.0,\n",
    "           'N_ur' : 0.0,\n",
    "           'YHe' : 0.25,\n",
    "           'k_output_values' : '1e-4, 1e-2, 1.0',\n",
    "           'G_eff' : 1e-7,\n",
    "           'tol_inu_synchronous' : 1e-1})\n",
    "cosmo.compute()"
   ]
  },
  {
   "cell_type": "code",
   "execution_count": 7,
   "metadata": {
    "collapsed": false
   },
   "outputs": [],
   "source": [
    "CYR = {}\n",
    "for G in G_eff_vec:\n",
    "    CYR[G] = Class() \n",
    "    CYR[G].set({'output':'tCl mPk dTk vTk', \n",
    "           'N_ncdm' : 0, \n",
    "           'N_inu': 0.0, \n",
    "           'N_ur' : 3.0, \n",
    "           'YHe' : 0.25, \n",
    "           'k_output_values' : '1e-4, 1e-2, 1.0', \n",
    "           'G_eff_CYR' : G, \n",
    "           'tol_inu_synchronous' : Nbins_inu,\n",
    "             'ur_fluid_approximation':3,\n",
    "             'radiation_streaming_approximation':3,\n",
    "              'background_verbose':5\n",
    "             }) \n",
    "    CYR[G].compute()"
   ]
  },
  {
   "cell_type": "code",
   "execution_count": 8,
   "metadata": {
    "collapsed": true
   },
   "outputs": [],
   "source": [
    "Cvis2Ceff2 = {}\n",
    "for cvis2 in cvis2_vec:\n",
    "    Cvis2Ceff2[cvis2] = Class() \n",
    "    Cvis2Ceff2[cvis2].set({'output':'tCl mPk dTk vTk', \n",
    "               'N_ncdm' : 0, \n",
    "               'N_inu': 0.0, \n",
    "               'N_ur' : 3.0, \n",
    "               'ceff2_ur': 1./3.,\n",
    "               'cvis2_ur' : cvis2,\n",
    "               'YHe' : 0.25, \n",
    "               'k_output_values' : '1e-4, 1e-2, 1.0', \n",
    "               'G_eff' : 0.0, \n",
    "               'tol_inu_synchronous' : Nbins_inu,\n",
    "                 'ur_fluid_approximation':3,\n",
    "                 'radiation_streaming_approximation':3,\n",
    "                'background_verbose':5\n",
    "                 }) \n",
    "    Cvis2Ceff2[cvis2].compute()"
   ]
  },
  {
   "cell_type": "code",
   "execution_count": null,
   "metadata": {
    "collapsed": false
   },
   "outputs": [],
   "source": [
    "ISA = {}\n",
    "for G in G_eff_vec:\n",
    "    ISA[G]= Class() \n",
    "    ISA[G].set({'output':'tCl mPk dTk vTk',\n",
    "          'evolver':1,\n",
    "           'N_ncdm' : 0, \n",
    "           'N_inu': 3.0, \n",
    "           'N_ur' : 0.0, \n",
    "           'YHe' : 0.25, \n",
    "           'k_output_values' : '1e-4, 1e-2, 1.0', \n",
    "           'G_eff' : G, \n",
    "           'tol_inu_synchronous' : Nbins_inu,\n",
    "         'l_max_inu':15,\n",
    "#          'tol_perturb_integration':10000,\n",
    "         'perturbations_verbose':3}) \n",
    "    %time ISA[G].compute()"
   ]
  },
  {
   "cell_type": "code",
   "execution_count": null,
   "metadata": {
    "collapsed": false
   },
   "outputs": [],
   "source": [
    "Ref = Standard\n",
    "clref = Ref.raw_cl()\n",
    "clnoint = NoInt.raw_cl()\n",
    "    \n",
    "for G in G_eff_vec:\n",
    "    cl_CYR = CYR[G].raw_cl()\n",
    "    cl_ISA = ISA[G].raw_cl()\n",
    "    l = cl_ISA['ell'][2:]\n",
    "    p = plt.plot(l,cl_ISA['tt'][2:]/clref['tt'][2:],label=r'$\\mathrm{ISA}, G_\\mathrm{eff}='+\"{:g}\".format(G)+'$')\n",
    "    colour = p[0].get_color()\n",
    "    plt.plot(l,cl_CYR['tt'][2:]/clref['tt'][2:],label=r'$\\mathrm{CYR}, G_\\mathrm{eff}='+\"{:g}\".format(G)+'$',\n",
    "             ls='--',color=colour)\n",
    "#plt.ylim([0.997,1.003])\n",
    "lgd = plt.legend(loc='upper left',ncol=1,bbox_to_anchor=(1.03, 1.045))\n",
    "#plt.savefig(\"CYRvsISA.pdf\",bbox_extra_artists=(lgd,), bbox_inches='tight')"
   ]
  },
  {
   "cell_type": "code",
   "execution_count": null,
   "metadata": {
    "collapsed": false
   },
   "outputs": [],
   "source": [
    "ISA2 = {}\n",
    "for G in G_eff_vec:\n",
    "    ISA2[G]= Class() \n",
    "    ISA2[G].set({'output':'tCl mPk dTk vTk',\n",
    "          'evolver':1,\n",
    "           'N_ncdm' : 0, \n",
    "           'N_inu': 3.0, \n",
    "           'N_ur' : 0.0, \n",
    "           'YHe' : 0.25, \n",
    "           'k_output_values' : '1e-4, 1e-2, 1.0', \n",
    "           'G_eff' : G, \n",
    "           'tol_inu_synchronous' : Nbins2_inu,\n",
    "         'l_max_inu':15,\n",
    "#          'tol_perturb_integration':10000,\n",
    "         'perturbations_verbose':3}) \n",
    "    %time ISA2[G].compute()"
   ]
  },
  {
   "cell_type": "code",
   "execution_count": null,
   "metadata": {
    "collapsed": false
   },
   "outputs": [],
   "source": [
    "ISA3 = {}\n",
    "for G in G_eff_vec:\n",
    "    ISA3[G]= Class() \n",
    "    ISA3[G].set({'output':'tCl mPk dTk vTk',\n",
    "          'evolver':1,\n",
    "           'N_ncdm' : 0, \n",
    "           'N_inu': 3.0, \n",
    "           'N_ur' : 0.0, \n",
    "           'YHe' : 0.25, \n",
    "           'k_output_values' : '1e-4, 1e-2, 1.0', \n",
    "           'G_eff' : G, \n",
    "           'tol_inu_synchronous' : Nbins3_inu,\n",
    "         'l_max_inu':15,\n",
    "#          'tol_perturb_integration':10000,\n",
    "         'perturbations_verbose':3}) \n",
    "    %time ISA3[G].compute()"
   ]
  },
  {
   "cell_type": "code",
   "execution_count": null,
   "metadata": {
    "collapsed": false
   },
   "outputs": [],
   "source": [
    "Ref = Standard\n",
    "clref = Ref.raw_cl()\n",
    "clnoint = NoInt.raw_cl()\n",
    "    \n",
    "for G in G_eff_vec:\n",
    "    cl_ISA = ISA[G].raw_cl()\n",
    "    cl_ISA2 = ISA2[G].raw_cl()\n",
    "    cl_ISA3 = ISA3[G].raw_cl()\n",
    "    l = cl_ISA['ell'][2:]\n",
    "    \n",
    "    p = plt.plot(l,cl_ISA['tt'][2:]/clref['tt'][2:],label=r'$N_q=10, G_\\mathrm{eff}='+\"{:g}\".format(G)+'$')\n",
    "    colour = p[0].get_color()\n",
    "    plt.plot(l,cl_ISA2['tt'][2:]/clref['tt'][2:],label=r'$N_q=20, G_\\mathrm{eff}='+\"{:g}\".format(G)+'$',ls='--',color=colour)\n",
    "    plt.plot(l,cl_ISA3['tt'][2:]/clref['tt'][2:],label=r'$N_q=30, G_\\mathrm{eff}='+\"{:g}\".format(G)+'$',ls='dotted',color=colour)\n",
    "\n",
    "#plt.ylim([0.997,1.003])\n",
    "\n",
    "#plt.ylim([0.997,1.003])\n",
    "#lgd = plt.legend(loc='upper left',ncol=1,bbox_to_anchor=(1.03, 1.045))\n",
    "#plt.savefig(\"IncreasingNq_lmax15_method2.pdf\", bbox_inches='tight')"
   ]
  },
  {
   "cell_type": "code",
   "execution_count": null,
   "metadata": {
    "collapsed": false
   },
   "outputs": [],
   "source": [
    "ISA4 = {}\n",
    "for G in G_eff_vec:\n",
    "    ISA4[G]= Class() \n",
    "    ISA4[G].set({'output':'tCl mPk dTk vTk',\n",
    "          'evolver':1,\n",
    "           'N_ncdm' : 0, \n",
    "           'N_inu': 3.0, \n",
    "           'N_ur' : 0.0, \n",
    "           'YHe' : 0.25, \n",
    "           'k_output_values' : '1e-4, 1e-2, 1.0', \n",
    "           'G_eff' : G, \n",
    "           'tol_inu_synchronous' : Nbins4_inu,\n",
    "         'l_max_inu':15,\n",
    "#          'tol_perturb_integration':10000,\n",
    "         'perturbations_verbose':3}) \n",
    "    %time ISA4[G].compute()"
   ]
  },
  {
   "cell_type": "code",
   "execution_count": null,
   "metadata": {
    "collapsed": false
   },
   "outputs": [],
   "source": [
    "Ref = Standard\n",
    "clref = Ref.raw_cl()\n",
    "clnoint = NoInt.raw_cl()\n",
    "    \n",
    "for G in G_eff_vec:\n",
    "    cl_CYR = CYR[G].raw_cl()\n",
    "    cl_ISA3 = ISA3[G].raw_cl()\n",
    "    cl_ISA4 = ISA4[G].raw_cl()\n",
    "    l = cl_ISA4['ell'][2:]\n",
    "    \n",
    "    p = plt.plot(l,cl_ISA3['tt'][2:]/clref['tt'][2:],label=r'$N_q=30, G_\\mathrm{eff}='+\"{:g}\".format(G)+'$',ls='-')\n",
    "    colour = p[0].get_color()\n",
    "    plt.plot(l,cl_ISA4['tt'][2:]/clref['tt'][2:],label=r'$N_q=40, G_\\mathrm{eff}='+\"{:g}\".format(G)+'$',ls='-.',color=colour)\n",
    "    plt.plot(l,cl_CYR['tt'][2:]/clref['tt'][2:],label=r'$\\mathrm{CYR}, G_\\mathrm{eff}='+\"{:g}\".format(G)+'$',\n",
    "             ls=':',color=\"Black\",lw=2)"
   ]
  },
  {
   "cell_type": "code",
   "execution_count": null,
   "metadata": {
    "collapsed": false
   },
   "outputs": [],
   "source": [
    "ISA5 = {}\n",
    "for G in G_eff_vec:\n",
    "    ISA5[G]= Class() \n",
    "    ISA5[G].set({'output':'tCl mPk dTk vTk',\n",
    "          'evolver':1,\n",
    "           'N_ncdm' : 0, \n",
    "           'N_inu': 3.0, \n",
    "           'N_ur' : 0.0, \n",
    "           'YHe' : 0.25, \n",
    "           'k_output_values' : '1e-4, 1e-2, 1.0', \n",
    "           'G_eff' : G, \n",
    "           'tol_inu_synchronous' : Nbins5_inu,\n",
    "         'l_max_inu':15,\n",
    "#          'tol_perturb_integration':10000,\n",
    "         'perturbations_verbose':3}) \n",
    "    %time ISA5[G].compute()"
   ]
  },
  {
   "cell_type": "code",
   "execution_count": null,
   "metadata": {
    "collapsed": false
   },
   "outputs": [],
   "source": [
    "Ref = Standard\n",
    "clref = Ref.raw_cl()\n",
    "clnoint = NoInt.raw_cl()\n",
    "    \n",
    "for G in G_eff_vec:\n",
    "    cl_CYR = CYR[G].raw_cl()\n",
    "    cl_ISA3 = ISA3[G].raw_cl()\n",
    "    cl_ISA4 = ISA4[G].raw_cl()\n",
    "    cl_ISA5 = ISA5[G].raw_cl()\n",
    "    l = cl_ISA4['ell'][2:]\n",
    "    \n",
    "    p = plt.plot(l,cl_ISA3['tt'][2:]/clref['tt'][2:],label=r'$N_q=30, G_\\mathrm{eff}='+\"{:g}\".format(G)+'$',ls=':')\n",
    "    colour = p[0].get_color()\n",
    "    plt.plot(l,cl_ISA4['tt'][2:]/clref['tt'][2:],label=r'$N_q=40, G_\\mathrm{eff}='+\"{:g}\".format(G)+'$',ls='--',color=colour)\n",
    "    plt.plot(l,cl_ISA5['tt'][2:]/clref['tt'][2:],label=r'$N_q=50, G_\\mathrm{eff}='+\"{:g}\".format(G)+'$',ls='-.',color=colour)\n",
    "    plt.plot(l,cl_CYR['tt'][2:]/clref['tt'][2:],label=r'$\\mathrm{CYR}, G_\\mathrm{eff}='+\"{:g}\".format(G)+'$',\n",
    "             ls='-',color=colour,lw=2)\n",
    "    \n",
    "for cvis2 in cvis2_vec: \n",
    "    cl_cvis2 = Cvis2Ceff2[cvis2].raw_cl()\n",
    "    plt.plot(l,cl_cvis2['tt'][2:]/clref['tt'][2:],label=r'$N_q=40, G_\\mathrm{eff}='+\"{:g}\".format(G)+'$',ls=':',color=\"Black\")\n",
    "    \n",
    "#plt.ylim([0.997,1.003])\n",
    "\n",
    "#plt.ylim([0.997,1.003])\n",
    "#lgd = plt.legend(loc='upper left',ncol=1,bbox_to_anchor=(1.03, 1.045))\n",
    "plt.savefig(\"IncreasingNq_lmax15_method3b.pdf\", bbox_inches='tight')"
   ]
  },
  {
   "cell_type": "code",
   "execution_count": null,
   "metadata": {
    "collapsed": false
   },
   "outputs": [],
   "source": [
    "ISA6= Class() \n",
    "ISA6.set({'output':'tCl mPk dTk vTk',\n",
    "     'evolver':1,\n",
    "     'N_ncdm' : 0, \n",
    "     'N_inu': 3.0, \n",
    "     'N_ur' : 0.0, \n",
    "     'YHe' : 0.25, \n",
    "     'k_output_values' : '1e-4, 1e-2, 1.0', \n",
    "     'G_eff' : 1e-2, \n",
    "     'tol_inu_synchronous' : 60,\n",
    "     'l_max_inu':15,\n",
    "#          'tol_perturb_integration':10000,\n",
    "     'perturbations_verbose':3}) \n",
    "%time ISA6.compute()"
   ]
  },
  {
   "cell_type": "code",
   "execution_count": null,
   "metadata": {
    "collapsed": false
   },
   "outputs": [],
   "source": [
    "Ref = Standard\n",
    "clref = Ref.raw_cl()\n",
    "clnoint = NoInt.raw_cl()\n",
    "\n",
    "for G in (1e-2,1e-2):    \n",
    "    cl_ISA = ISA[G].raw_cl()\n",
    "    cl_ISA2 = ISA2[G].raw_cl()\n",
    "    cl_ISA3 = ISA3[G].raw_cl()\n",
    "    cl_ISA4 = ISA4[G].raw_cl()\n",
    "    cl_ISA5 = ISA5[G].raw_cl()\n",
    "    cl_ISA6 = ISA6.raw_cl()\n",
    "    l = cl_ISA4['ell'][2:]\n",
    "    \n",
    "    plt.plot(l,cl_ISA['tt'][2:]/clnoint['tt'][2:],label=r'$N_q=10, G_\\mathrm{eff}='+\"{:g}\".format(G)+'$',color='Black')\n",
    "    plt.plot(l,cl_ISA2['tt'][2:]/clnoint['tt'][2:],label=r'$N_q=20, G_\\mathrm{eff}='+\"{:g}\".format(G)+'$',color='Gray')\n",
    "    plt.plot(l,cl_ISA3['tt'][2:]/clnoint['tt'][2:],label=r'$N_q=30, G_\\mathrm{eff}='+\"{:g}\".format(G)+'$',color='Blue')\n",
    "    plt.plot(l,cl_ISA4['tt'][2:]/clnoint['tt'][2:],label=r'$N_q=40, G_\\mathrm{eff}='+\"{:g}\".format(G)+'$',color='Green')\n",
    "    plt.plot(l,cl_ISA5['tt'][2:]/clnoint['tt'][2:],label=r'$N_q=50, G_\\mathrm{eff}='+\"{:g}\".format(G)+'$',color='Orange')\n",
    "    plt.plot(l,cl_ISA6['tt'][2:]/clnoint['tt'][2:],label=r'$N_q=50, G_\\mathrm{eff}='+\"{:g}\".format(G)+'$',color='Red')\n",
    "#plt.ylim([0.997,1.003])\n",
    "#lgd = plt.legend(loc='upper left',ncol=1,bbox_to_anchor=(1.03, 1.045))"
   ]
  },
  {
   "cell_type": "code",
   "execution_count": null,
   "metadata": {
    "collapsed": false
   },
   "outputs": [],
   "source": [
    "#ptsInt1 = Int1.get_perturbations()['scalar']\n",
    "ptsNoInt = NoInt.get_perturbations()['scalar']\n",
    "plotvar = 'inu_momentum_conservation'\n",
    "for G in [1e-3]:\n",
    "    ptsISA5 = ISA5[G].get_perturbations()['scalar']\n",
    "    for i in range(1):\n",
    "        tauISA5 = ptsISA5[i]['z']\n",
    "        varISA5 = ptsISA5[i][plotvar]\n",
    "        \n",
    "        plt.plot(tauISA5,varISA5,ls='-',lw=2,label=r'$G_\\mathrm{eff}='+\"{:g}\".format(G)+'$')\n",
    "                 \n",
    "        lgd = plt.legend(loc='upper left',ncol=1,bbox_to_anchor=(1.03, 1.045))    "
   ]
  },
  {
   "cell_type": "code",
   "execution_count": null,
   "metadata": {
    "collapsed": false
   },
   "outputs": [],
   "source": [
    "ISA4b = {}\n",
    "for G in [1e-2,1e-1]:\n",
    "    ISA4b[G]= Class() \n",
    "    ISA4b[G].set({'output':'tCl mPk dTk vTk',\n",
    "          'evolver':1,\n",
    "           'N_ncdm' : 0, \n",
    "           'N_inu': 3.0, \n",
    "           'N_ur' : 0.0, \n",
    "           'YHe' : 0.25, \n",
    "           'k_output_values' : '1e-4, 1e-2, 1.0', \n",
    "           'G_eff' : G, \n",
    "           'tol_inu_synchronous' : Nbins4_inu,\n",
    "         'l_max_inu':25,\n",
    "#          'tol_perturb_integration':10000,\n",
    "         'perturbations_verbose':3}) \n",
    "    %time ISA4b[G].compute()"
   ]
  },
  {
   "cell_type": "code",
   "execution_count": null,
   "metadata": {
    "collapsed": false
   },
   "outputs": [],
   "source": [
    "Ref = Standard\n",
    "clref = Ref.raw_cl()\n",
    "clnoint = NoInt.raw_cl()\n",
    "    \n",
    "for G in [1e-2,1e-1]:\n",
    "    cl_ISA4 = ISA4[G].raw_cl()\n",
    "    cl_ISA4b = ISA4b[G].raw_cl()\n",
    "    l = cl_ISA4['ell'][2:]\n",
    "    \n",
    "    p = plt.plot(l,cl_ISA4['tt'][2:]/clref['tt'][2:],label=r'$N_q=10, G_\\mathrm{eff}='+\"{:g}\".format(G)+'$')\n",
    "    colour = p[0].get_color()\n",
    "    plt.plot(l,cl_ISA4b['tt'][2:]/clref['tt'][2:],label=r'$N_q=20, G_\\mathrm{eff}='+\"{:g}\".format(G)+'$',ls='--',color=colour)\n",
    "\n",
    "#plt.ylim([0.997,1.003])\n",
    "\n",
    "#plt.ylim([0.997,1.003])\n",
    "#lgd = plt.legend(loc='upper left',ncol=1,bbox_to_anchor=(1.03, 1.045))\n",
    "#plt.savefig(\"IncreasingNq_lmax15_trapedzoidal.pdf\", bbox_inches='tight')"
   ]
  },
  {
   "cell_type": "code",
   "execution_count": 10,
   "metadata": {
    "collapsed": false
   },
   "outputs": [],
   "source": [
    "Int12 = Class() \n",
    "Int12.set({'output':'tCl mPk dTk vTk',\n",
    "          'evolver':1,\n",
    "           'N_ncdm' : 0, \n",
    "           'N_inu': 3.00, \n",
    "           'N_ur' : 0.0, \n",
    "           'YHe' : 0.25, \n",
    "           'k_output_values' : '1e-4, 1e-2, 1.0', \n",
    "           'G_eff' : 1e-2, \n",
    "           'tol_inu_synchronous' : 40,\n",
    "           'l_max_inu':15,\n",
    "           'qmax_inu':12.,\n",
    "           'qmin_inu':0.1,\n",
    "           'quadrature_method_inu':1,\n",
    "#          'tol_perturb_integration':10000,\n",
    "           'perturbations_verbose':3,\n",
    "           'background_verbose':1,\n",
    "           'input_verbose':1})\n",
    "Int12.compute()"
   ]
  },
  {
   "cell_type": "code",
   "execution_count": 11,
   "metadata": {
    "collapsed": true
   },
   "outputs": [],
   "source": [
    "Int15 = Class() \n",
    "Int15.set({'output':'tCl mPk dTk vTk',\n",
    "          'evolver':1,\n",
    "           'N_ncdm' : 0, \n",
    "           'N_inu': 3.00, \n",
    "           'N_ur' : 0.0, \n",
    "           'YHe' : 0.25, \n",
    "           'k_output_values' : '1e-4, 1e-2, 1.0', \n",
    "           'G_eff' : 1e-2, \n",
    "           'tol_inu_synchronous' : 50,\n",
    "           'l_max_inu':15,\n",
    "           'qmax_inu':15.,\n",
    "           'qmin_inu':0.1,\n",
    "           'quadrature_method_inu':1,\n",
    "#          'tol_perturb_integration':10000,\n",
    "           'perturbations_verbose':3,\n",
    "           'background_verbose':1,\n",
    "           'input_verbose':1})\n",
    "Int15.compute()"
   ]
  },
  {
   "cell_type": "code",
   "execution_count": 12,
   "metadata": {
    "collapsed": true
   },
   "outputs": [],
   "source": [
    "Int18 = Class() \n",
    "Int18.set({'output':'tCl mPk dTk vTk',\n",
    "          'evolver':1,\n",
    "           'N_ncdm' : 0, \n",
    "           'N_inu': 3.00, \n",
    "           'N_ur' : 0.0, \n",
    "           'YHe' : 0.25, \n",
    "           'k_output_values' : '1e-4, 1e-2, 1.0', \n",
    "           'G_eff' : 1e-2, \n",
    "           'tol_inu_synchronous' : 60,\n",
    "           'l_max_inu':15,\n",
    "           'qmax_inu':18.,\n",
    "           'qmin_inu':0.1,\n",
    "           'quadrature_method_inu':1,\n",
    "#          'tol_perturb_integration':10000,\n",
    "           'perturbations_verbose':3,\n",
    "           'background_verbose':1,\n",
    "           'input_verbose':1})\n",
    "Int18.compute()"
   ]
  },
  {
   "cell_type": "code",
   "execution_count": 13,
   "metadata": {
    "collapsed": true
   },
   "outputs": [],
   "source": [
    "Int21 = Class() \n",
    "Int21.set({'output':'tCl mPk dTk vTk',\n",
    "          'evolver':1,\n",
    "           'N_ncdm' : 0, \n",
    "           'N_inu': 3.00, \n",
    "           'N_ur' : 0.0, \n",
    "           'YHe' : 0.25, \n",
    "           'k_output_values' : '1e-4, 1e-2, 1.0', \n",
    "           'G_eff' : 1e-2, \n",
    "           'tol_inu_synchronous' : 70,\n",
    "           'l_max_inu':15,\n",
    "           'qmax_inu':21.,\n",
    "           'qmin_inu':0.1,\n",
    "           'quadrature_method_inu':1,\n",
    "#          'tol_perturb_integration':10000,\n",
    "           'perturbations_verbose':3,\n",
    "           'background_verbose':1,\n",
    "           'input_verbose':1})\n",
    "Int21.compute()"
   ]
  },
  {
   "cell_type": "code",
   "execution_count": 22,
   "metadata": {
    "collapsed": false
   },
   "outputs": [
    {
     "data": {
      "image/png": "[encoded data removed]",
      "text/plain": [
       "<matplotlib.figure.Figure at 0x7f55605044d0>"
      ]
     },
     "metadata": {},
     "output_type": "display_data"
    }
   ],
   "source": [
    "Ref = Standard\n",
    "clInt12 = Int12.raw_cl()\n",
    "clInt15 = Int15.raw_cl()\n",
    "clInt18 = Int18.raw_cl()\n",
    "clInt21 = Int21.raw_cl()\n",
    "\n",
    "l = clInt12['ell'][2:]\n",
    "    \n",
    "plt.plot(l,clInt12['tt'][2:]/clref['tt'][2:],label=r'$d_q=0.3, q_\\mathrm{max}=12',color=\"Red\")\n",
    "plt.plot(l,clInt15['tt'][2:]/clref['tt'][2:],label=r'$d_q=0.3, q_\\mathrm{max}=15',color=\"Red\",ls='--')\n",
    "plt.plot(l,clInt18['tt'][2:]/clref['tt'][2:],label=r'$d_q=0.3, q_\\mathrm{max}=18',color=\"Red\",ls=':')\n",
    "plt.plot(l,clInt21['tt'][2:]/clref['tt'][2:],label=r'$d_q=0.3, q_\\mathrm{max}=21',color=\"Red\",ls='-.')\n",
    "\n",
    "for G in [1e-2]:\n",
    "    cl_CYR = CYR[G].raw_cl()\n",
    "    \n",
    "    plt.plot(l,cl_CYR['tt'][2:]/clref['tt'][2:],label=r'$\\mathrm{CYR}, G_\\mathrm{eff}='+\"{:g}\".format(G)+'$',color=\"Black\")\n",
    "    "
   ]
  },
  {
   "cell_type": "code",
   "execution_count": 23,
   "metadata": {
    "collapsed": true
   },
   "outputs": [],
   "source": [
    "Int15b = Class() \n",
    "Int15b.set({'output':'tCl mPk dTk vTk',\n",
    "          'evolver':1,\n",
    "           'N_ncdm' : 0, \n",
    "           'N_inu': 3.00, \n",
    "           'N_ur' : 0.0, \n",
    "           'YHe' : 0.25, \n",
    "           'k_output_values' : '1e-4, 1e-2, 1.0', \n",
    "           'G_eff' : 1e-2, \n",
    "           'tol_inu_synchronous' : 75,\n",
    "           'l_max_inu':15,\n",
    "           'qmax_inu':15.,\n",
    "           'qmin_inu':0.1,\n",
    "           'quadrature_method_inu':1,\n",
    "#          'tol_perturb_integration':10000,\n",
    "           'perturbations_verbose':3,\n",
    "           'background_verbose':1,\n",
    "           'input_verbose':1})\n",
    "Int15b.compute()"
   ]
  },
  {
   "cell_type": "code",
   "execution_count": 24,
   "metadata": {
    "collapsed": false
   },
   "outputs": [
    {
     "data": {
      "image/png": "[encoded data removed]",
      "text/plain": [
       "<matplotlib.figure.Figure at 0x7f5560380610>"
      ]
     },
     "metadata": {},
     "output_type": "display_data"
    }
   ],
   "source": [
    "Ref = Standard\n",
    "clInt12 = Int12.raw_cl()\n",
    "clInt15 = Int15.raw_cl()\n",
    "clInt18 = Int18.raw_cl()\n",
    "clInt21 = Int21.raw_cl()\n",
    "clInt15b = Int15b.raw_cl()\n",
    "\n",
    "l = clInt12['ell'][2:]\n",
    "    \n",
    "plt.plot(l,clInt12['tt'][2:]/clref['tt'][2:],label=r'$d_q=0.3, q_\\mathrm{max}=12',color=\"Red\")\n",
    "plt.plot(l,clInt15b['tt'][2:]/clref['tt'][2:],label=r'$d_q=0.2, q_\\mathrm{max}=15',color=\"Blue\")\n",
    "plt.plot(l,clInt15['tt'][2:]/clref['tt'][2:],label=r'$d_q=0.3, q_\\mathrm{max}=15',color=\"Red\",ls='--')\n",
    "plt.plot(l,clInt18['tt'][2:]/clref['tt'][2:],label=r'$d_q=0.3, q_\\mathrm{max}=18',color=\"Red\",ls=':')\n",
    "plt.plot(l,clInt21['tt'][2:]/clref['tt'][2:],label=r'$d_q=0.3, q_\\mathrm{max}=21',color=\"Red\",ls='-.')\n",
    "\n",
    "for G in [1e-2]:\n",
    "    cl_CYR = CYR[G].raw_cl()\n",
    "    \n",
    "    plt.plot(l,cl_CYR['tt'][2:]/clref['tt'][2:],label=r'$\\mathrm{CYR}, G_\\mathrm{eff}='+\"{:g}\".format(G)+'$',color=\"Black\")"
   ]
  },
  {
   "cell_type": "code",
   "execution_count": 25,
   "metadata": {
    "collapsed": true
   },
   "outputs": [],
   "source": [
    "Int15c = Class() \n",
    "Int15c.set({'output':'tCl mPk dTk vTk',\n",
    "          'evolver':1,\n",
    "           'N_ncdm' : 0, \n",
    "           'N_inu': 3.00, \n",
    "           'N_ur' : 0.0, \n",
    "           'YHe' : 0.25, \n",
    "           'k_output_values' : '1e-4, 1e-2, 1.0', \n",
    "           'G_eff' : 1e-2, \n",
    "           'tol_inu_synchronous' : 100,\n",
    "           'l_max_inu':15,\n",
    "           'qmax_inu':15.,\n",
    "           'qmin_inu':0.1,\n",
    "           'quadrature_method_inu':1,\n",
    "#          'tol_perturb_integration':10000,\n",
    "           'perturbations_verbose':3,\n",
    "           'background_verbose':1,\n",
    "           'input_verbose':1})\n",
    "Int15c.compute()"
   ]
  },
  {
   "cell_type": "code",
   "execution_count": 33,
   "metadata": {
    "collapsed": false
   },
   "outputs": [
    {
     "data": {
      "image/png": "[encoded data removed]",
      "text/plain": [
       "<matplotlib.figure.Figure at 0x7f55600f73d0>"
      ]
     },
     "metadata": {},
     "output_type": "display_data"
    }
   ],
   "source": [
    "Ref = Standard\n",
    "clInt12 = Int12.raw_cl()\n",
    "clInt15 = Int15.raw_cl()\n",
    "clInt18 = Int18.raw_cl()\n",
    "clInt21 = Int21.raw_cl()\n",
    "clInt15b = Int15b.raw_cl()\n",
    "clInt15c = Int15c.raw_cl()\n",
    "\n",
    "l = clInt12['ell'][2:]\n",
    "    \n",
    "plt.plot(l,clInt12['tt'][2:]/clref['tt'][2:],label=r'dq=0.3 (Nq=40), $q_\\mathrm{max}$=12',color=\"Red\")\n",
    "plt.plot(l,clInt15['tt'][2:]/clref['tt'][2:],label=r'dq=0.3 (Nq=50), $q_\\mathrm{max}$=15',color=\"Red\",ls='--')\n",
    "plt.plot(l,clInt18['tt'][2:]/clref['tt'][2:],label=r'dq=0.3 (Nq=60), $q_\\mathrm{max}$=18',color=\"Red\",ls=':')\n",
    "plt.plot(l,clInt21['tt'][2:]/clref['tt'][2:],label=r'dq=0.3 (Nq=70), $q_\\mathrm{max}$=21',color=\"Red\",ls='-.')\n",
    "plt.plot(l,clInt15b['tt'][2:]/clref['tt'][2:],label=r'dq=0.2 (Nq=75), $q_\\mathrm{max}$=15',color=\"Blue\")\n",
    "plt.plot(l,clInt15c['tt'][2:]/clref['tt'][2:],label=r'dq=0.15 (Nq=100), $q_\\mathrm{max}$=15',color=\"Blue\",ls='--')\n",
    "\n",
    "lgd = plt.legend(loc='upper left',ncol=1,bbox_to_anchor=(1.03, 1.045))\n",
    "#plt.savefig(\"qmax_dq_variation.pdf\", bbox_inches='tight')"
   ]
  },
  {
   "cell_type": "code",
   "execution_count": null,
   "metadata": {
    "collapsed": true
   },
   "outputs": [],
   "source": [
    "Int15d = Class() \n",
    "Int15d.set({'output':'tCl mPk dTk vTk',\n",
    "          'evolver':1,\n",
    "           'N_ncdm' : 0, \n",
    "           'N_inu': 3.00, \n",
    "           'N_ur' : 0.0, \n",
    "           'YHe' : 0.25, \n",
    "           'k_output_values' : '1e-4, 1e-2, 1.0', \n",
    "           'G_eff' : 1e-2, \n",
    "           'tol_inu_synchronous' : 150,\n",
    "           'l_max_inu':15,\n",
    "           'qmax_inu':15.,\n",
    "           'qmin_inu':0.1,\n",
    "           'quadrature_method_inu':1,\n",
    "#          'tol_perturb_integration':10000,\n",
    "           'perturbations_verbose':3,\n",
    "           'background_verbose':1,\n",
    "           'input_verbose':1})\n",
    "Int15d.compute()"
   ]
  },
  {
   "cell_type": "code",
   "execution_count": null,
   "metadata": {
    "collapsed": true
   },
   "outputs": [],
   "source": []
  }
 ],
 "metadata": {
  "kernelspec": {
   "display_name": "Python 2",
   "language": "python",
   "name": "python2"
  },
  "language_info": {
   "codemirror_mode": {
    "name": "ipython",
    "version": 2
   },
   "file_extension": ".py",
   "mimetype": "text/x-python",
   "name": "python",
   "nbconvert_exporter": "python",
   "pygments_lexer": "ipython2",
   "version": "2.7.11"
  }
 },
 "nbformat": 4,
 "nbformat_minor": 0
}
