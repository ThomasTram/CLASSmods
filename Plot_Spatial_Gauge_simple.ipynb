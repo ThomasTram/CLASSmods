{
 "cells": [
  {
   "cell_type": "code",
   "execution_count": 1,
   "metadata": {
    "collapsed": false
   },
   "outputs": [],
   "source": [
    "%matplotlib inline\n",
    "import matplotlib\n",
    "import matplotlib.pyplot as plt\n",
    "import numpy as np\n",
    "from scipy.signal import argrelextrema\n",
    "from scipy.interpolate import interp1d\n",
    "from classy import Class"
   ]
  },
  {
   "cell_type": "code",
   "execution_count": 2,
   "metadata": {
    "collapsed": false
   },
   "outputs": [
    {
     "name": "stdout",
     "output_type": "stream",
     "text": [
      "['50', 'g']\n",
      "['50', 'r']\n",
      "['100', 'g']\n",
      "['100', 'r']\n"
     ]
    }
   ],
   "source": [
    "z_pk = [200.0,100.0,75.0,50.0,10.0,5.0,0.0]\n",
    "k_out = [0.0001,0.001, 0.01, 0.1,1]\n",
    "z_Nbody = [0,50,100,500,1000,'50_g','50_r','100_g','100_r']\n",
    "cosmo = {}\n",
    "for key in z_Nbody:\n",
    "    radiation_source = 1\n",
    "    gamma_source = 1\n",
    "    cosmo[key] = Class()\n",
    "    if isinstance(key, basestring):\n",
    "        #Key is a string\n",
    "        tmp = key.split('_')\n",
    "        print tmp\n",
    "        z_init = float(tmp[0])\n",
    "        if tmp[1]=='g':\n",
    "            radiation_source = 0\n",
    "        elif tmp[1]=='r':\n",
    "            gamma_source = 0\n",
    "    else:\n",
    "        z_init = key\n",
    "    cosmo[key].set({'output':'mPk dTk lTk', \n",
    "           'z_pk':str(z_pk).strip('[]'),\n",
    "           'k_output_values':str(k_out).strip('[]'),\n",
    "           'a_init_nbody': 1./(z_init+1.),\n",
    "           'switch_radiation_source':radiation_source,\n",
    "           'switch_gamma':gamma_source,\n",
    "           'radiation_streaming_approximation':3,\n",
    "           'ur_fluid_approximation':2,\n",
    "           'l_max_g':100,\n",
    "           'l_max_ur':100,\n",
    "           'l_max_pol_g':100, \n",
    "           'reio_parametrization':'reio_none',\n",
    "           'k_per_decade_for_pk':60,\n",
    "           'k_per_decade_for_bao':120,\n",
    "           'gauge' : 'Newtonian',\n",
    "           'P_k_max_h/Mpc' : 1.,\n",
    "           'evolver':0,\n",
    "           'tol_perturb_integration':0.000001,\n",
    "           'tol_background_integration':1e-8,\n",
    "           'back_integration_stepsize':1e-3,\n",
    "           'perturb_sampling_stepsize':0.01,\n",
    "           'tol_thermo_integration':1e-5\n",
    "            })\n",
    "    cosmo[key].compute()\n"
   ]
  },
  {
   "cell_type": "code",
   "execution_count": 3,
   "metadata": {
    "collapsed": false
   },
   "outputs": [
    {
     "name": "stdout",
     "output_type": "stream",
     "text": [
      "P_k_max_h/Mpc  =  1.0\n",
      "tol_background_integration  =  1e-08\n",
      "perturb_sampling_stepsize  =  0.01\n",
      "k_per_decade_for_bao  =  120\n",
      "tol_thermo_integration  =  1e-05\n",
      "gauge  =  Newtonian\n",
      "switch_gamma  =  1\n",
      "reio_parametrization  =  reio_none\n",
      "back_integration_stepsize  =  0.001\n",
      "evolver  =  0\n",
      "radiation_streaming_approximation  =  3\n",
      "switch_radiation_source  =  1\n",
      "z_pk  =  200.0, 100.0, 75.0, 50.0, 10.0, 5.0, 0.0\n",
      "k_per_decade_for_pk  =  60\n",
      "k_output_values  =  0.0001, 0.001, 0.01, 0.1, 1\n",
      "l_max_pol_g  =  100\n",
      "tol_perturb_integration  =  1e-06\n",
      "a_init_nbody  =  0.00990099009901\n",
      "ur_fluid_approximation  =  2\n",
      "output  =  mPk dTk lTk\n",
      "l_max_ur  =  100\n",
      "l_max_g  =  100\n"
     ]
    }
   ],
   "source": [
    "cc = cosmo[100] \n",
    "cc.pars\n",
    "for key, val in cosmo[100].pars.iteritems():\n",
    "    print key,' = ',val"
   ]
  },
  {
   "cell_type": "markdown",
   "metadata": {},
   "source": [
    " reio affects the small k after z = 10, baryons affect the small scales significantly\n",
    " is there a sign difference between 3hc term?"
   ]
  },
  {
   "cell_type": "code",
   "execution_count": 4,
   "metadata": {
    "collapsed": false
   },
   "outputs": [
    {
     "name": "stdout",
     "output_type": "stream",
     "text": [
      "tks200_0 \n",
      "tks100_0 \n",
      "tks75_0 \n",
      "tks50_0 \n",
      "tks10_0 \n",
      "tks5_0 \n",
      "tks0_0 \n",
      "tks200_50 \n",
      "tks100_50 \n",
      "tks75_50 \n",
      "tks50_50 \n",
      "tks10_50 \n",
      "tks5_50 \n",
      "tks0_50 \n",
      "tks200_100 \n",
      "tks100_100 \n",
      "tks75_100 \n",
      "tks50_100 \n",
      "tks10_100 \n",
      "tks5_100 \n",
      "tks0_100 \n",
      "tks200_500 \n",
      "tks100_500 \n",
      "tks75_500 \n",
      "tks50_500 \n",
      "tks10_500 \n",
      "tks5_500 \n",
      "tks0_500 \n",
      "tks200_1000 \n",
      "tks100_1000 \n",
      "tks75_1000 \n",
      "tks50_1000 \n",
      "tks10_1000 \n",
      "tks5_1000 \n",
      "tks0_1000 \n",
      "tks200_50_g \n",
      "tks100_50_g \n",
      "tks75_50_g \n",
      "tks50_50_g \n",
      "tks10_50_g \n",
      "tks5_50_g \n",
      "tks0_50_g \n",
      "tks200_50_r \n",
      "tks100_50_r \n",
      "tks75_50_r \n",
      "tks50_50_r \n",
      "tks10_50_r \n",
      "tks5_50_r \n",
      "tks0_50_r \n",
      "tks200_100_g \n",
      "tks100_100_g \n",
      "tks75_100_g \n",
      "tks50_100_g \n",
      "tks10_100_g \n",
      "tks5_100_g \n",
      "tks0_100_g \n",
      "tks200_100_r \n",
      "tks100_100_r \n",
      "tks75_100_r \n",
      "tks50_100_r \n",
      "tks10_100_r \n",
      "tks5_100_r \n",
      "tks0_100_r \n"
     ]
    }
   ],
   "source": [
    "for zsim in z_Nbody:\n",
    "    cosmotmp = cosmo[zsim]\n",
    "    for zpk in z_pk:\n",
    "        seval = 'tks'+str(int(zpk))+'_'+str(zsim)+' = cosmotmp.get_transfer('+str(zpk)+')'\n",
    "        print seval.split('=')[0]\n",
    "        exec(seval)\n",
    "    "
   ]
  },
  {
   "cell_type": "code",
   "execution_count": 5,
   "metadata": {
    "collapsed": false
   },
   "outputs": [
    {
     "name": "stdout",
     "output_type": "stream",
     "text": [
      "5\n",
      "dict_keys(['HCtheta_prime', 'L_prime', 'B_nm', 'A_nm', 'delta_ur', 'delta_cdm', 'theta_cdm', 'CHT_chi', 'theta_ur', 'HCAnb_prime', 'HCAnb', 'phi', 'psi', 'H_T_nm', 'shear_ur', 'HCtheta', 'L', 'delta_g', 'H_L_nm', 'delta_b', 'a', 'theta_g', 'pol0_g', 'theta_b', 'CHT_sigma', 'shear_g', 'tau [Mpc]', 'delta_N', 'pol2_g', 'pol1_g'])\n"
     ]
    }
   ],
   "source": [
    "pts0 = cosmo[0].get_perturbations()['scalar']\n",
    "pts50 = cosmo[50].get_perturbations()['scalar']\n",
    "pts100 = cosmo[100].get_perturbations()['scalar']\n",
    "pts500 = cosmo[500].get_perturbations()['scalar']\n",
    "print len(pts0)\n",
    "\n",
    "print pts100[0].viewkeys()"
   ]
  },
  {
   "cell_type": "code",
   "execution_count": 6,
   "metadata": {
    "collapsed": true
   },
   "outputs": [],
   "source": [
    "figwidth1 = 4.4 #=0.7*6.3\n",
    "figwidth2 = 6.3\n",
    "ratio = 8.3/11.7\n",
    "figheight1 = figwidth1*ratio\n",
    "figheight2 = figwidth2*ratio\n",
    "\n",
    "lw=2\n",
    "fs=12\n",
    "labelfs=16"
   ]
  },
  {
   "cell_type": "code",
   "execution_count": 7,
   "metadata": {
    "collapsed": false
   },
   "outputs": [
    {
     "name": "stdout",
     "output_type": "stream",
     "text": [
      "0.0001\n",
      "0.001\n",
      "0.01\n",
      "0.1\n",
      "1\n"
     ]
    },
    {
     "data": {
      "image/png": "[encoded data removed]",
      "text/plain": [
       "<matplotlib.figure.Figure at 0x146a8fcd0>"
      ]
     },
     "metadata": {},
     "output_type": "display_data"
    },
    {
     "data": {
      "image/png": "[encoded data removed]",
      "text/plain": [
       "<matplotlib.figure.Figure at 0x14737c510>"
      ]
     },
     "metadata": {},
     "output_type": "display_data"
    },
    {
     "data": {
      "image/png": "[encoded data removed]",
      "text/plain": [
       "<matplotlib.figure.Figure at 0x147943ed0>"
      ]
     },
     "metadata": {},
     "output_type": "display_data"
    },
    {
     "data": {
      "image/png": "[encoded data removed]",
      "text/plain": [
       "<matplotlib.figure.Figure at 0x147949ed0>"
      ]
     },
     "metadata": {},
     "output_type": "display_data"
    },
    {
     "data": {
      "image/png": "[encoded data removed]",
      "text/plain": [
       "<matplotlib.figure.Figure at 0x1481e8ad0>"
      ]
     },
     "metadata": {},
     "output_type": "display_data"
    }
   ],
   "source": [
    "for xx in range(len(k_out)):\n",
    "    pt0 = pts0[xx]\n",
    "    pt50 = pts50[xx]\n",
    "    pt100 = pts100[xx]\n",
    "    pt500 = pts500[xx]\n",
    "    \n",
    "    print k_out[xx]\n",
    "\n",
    "    tau100 = pt100['tau [Mpc]']\n",
    "    tau500 = pt500['tau [Mpc]']\n",
    "    tau50 = pt50['tau [Mpc]']\n",
    "    tau0 = pt0['tau [Mpc]']\n",
    "\n",
    "    Nx=2\n",
    "    Ny=2\n",
    "\n",
    "    f, axes = plt.subplots(2,2,sharex=True,figsize=(figwidth2,figheight2))\n",
    "\n",
    "    pttype = [['A_nm','B_nm'],['H_L_nm','H_T_nm']]\n",
    "    texnames = {'H_L_nm':r'H_\\mathrm{L}','H_T_nm':r'H_\\mathrm{T}','A_nm':'A','B_nm':'B'}\n",
    "    \n",
    "    #if xx==2:\n",
    "    #    legpos = {'H_L_nm':r'upper left','H_T_nm':r'upper right','A_nm':'upper right','B_nm':'lower right'}\n",
    "    #elif xx==0:\n",
    "    #    legpos = {'H_L_nm':r'upper left','H_T_nm':r'upper left','A_nm':'lower right','B_nm':'lower right'}\n",
    "    if xx==2:\n",
    "        legpos = {'H_L_nm':'upper left','H_T_nm':'upper left','A_nm':'best','B_nm':'best'}\n",
    "#        legpos = {'H_L_nm':'lower left','H_T_nm':'lower left','A_nm':'best','B_nm':'best'}\n",
    "    else:\n",
    "        legpos = {'H_L_nm':'best','H_T_nm':'best','A_nm':'best','B_nm':'best'}\n",
    "    \n",
    "    yscale = {'H_L_nm':'linear','H_T_nm':'linear','A_nm':'log','B_nm':'log'}\n",
    "\n",
    "    ylimits = {'H_L_nm':[-0.01,0.2],'H_T_nm':[1.4,4.5],'A_nm':[1e-7,1e2],'B_nm':[1e-1,1e2]}\n",
    "\n",
    "\n",
    "    \n",
    "    def trsf(y,ptt):\n",
    "        if ptt[0]=='H':\n",
    "            return y\n",
    "        else:\n",
    "#            return np.abs(y)\n",
    "            return y\n",
    "\n",
    "    \n",
    "    for i in range(Nx):\n",
    "        for j in range(Ny):\n",
    "            ptt = pttype[i][j]\n",
    "            ax = axes[i][j]\n",
    "                \n",
    "            ax.plot(tau0,trsf(pt0[ptt],ptt),lw=lw)\n",
    "            #ax.plot(tau50,trsf(pt50[ptt],ptt),ls='-.',lw=lw)\n",
    "            ax.plot(tau100,trsf(pt100[ptt],ptt),ls='--',lw=lw)\n",
    "            ax.plot(tau500,trsf(pt500[ptt],ptt),ls=':',lw=lw)\n",
    "            leg = ['$'+texnames[ptt]+r'^\\mathrm{Nb}$',\n",
    "            #       '$'+texnames[ptt]+r'^\\mathrm{Nm50}$',\n",
    "                   '$'+texnames[ptt]+r'^\\mathrm{Nm100}$',\n",
    "                   '$'+texnames[ptt]+r'^\\mathrm{Nm500}$']\n",
    "            ax.legend(leg,ncol=1,loc=legpos[ptt],fontsize=fs, framealpha=0.7) #,labelspacing=0.2\n",
    "            #ax.legend(leg,ncol=2,loc=legpos[ptt],fontsize=fs, framealpha=0.7,\n",
    "            #         columnspacing=0.9,handletextpad=0.1)\n",
    "            #,borderpad=0.2, labelspacing=0.1,  handletextpad=0.1, handlelength=0.004,borderaxespad=0.3) #,labelspacing=0.2\n",
    "            ax.set_xlim([0,15000])\n",
    "            #if xx==2:\n",
    "            #    ax.set_ylim(ylimits[ptt])\n",
    "            #elif ptt=='H_L_nm':\n",
    "            #    yls = ax.get_ylim()\n",
    "            #    ax.set_ylim([yls[0]-0.05*yls[1],yls[1]])\n",
    "            #ax.set_yscale(yscale[ptt])\n",
    "            if xx==1:\n",
    "                if ptt=='H_L_nm':\n",
    "                    ax.set_ylim([-0.1,0.7])\n",
    "            elif xx==2:\n",
    "                if ptt=='H_L_nm':\n",
    "                    ax.set_ylim([-0.2,0.6])\n",
    "                elif ptt=='H_T_nm':\n",
    "                    ax.set_ylim([-3.0, 0.5])\n",
    "            ax.set_xticks([k*3000 for k in range(6)])\n",
    "    for j in range(2):\n",
    "        axes[1,j].set_xlabel(r'$\\tau\\quad [\\mathrm{Mpc}]$',fontsize=fs)\n",
    "    f.tight_layout()\n",
    "    if xx==0:\n",
    "        f.subplots_adjust(wspace=0.3, hspace=0.1)\n",
    "    else:\n",
    "        f.subplots_adjust(wspace=0.2, hspace=0.1)\n",
    "    fname = 'metricpotentialsk'+str(k_out[xx])+'.pdf'\n",
    "    f.savefig(fname, bbox_inches='tight')  "
   ]
  },
  {
   "cell_type": "code",
   "execution_count": 40,
   "metadata": {
    "collapsed": false
   },
   "outputs": [
    {
     "data": {
      "image/png": "[encoded data removed]",
      "text/plain": [
       "<matplotlib.figure.Figure at 0x146d4b890>"
      ]
     },
     "metadata": {},
     "output_type": "display_data"
    }
   ],
   "source": [
    "import scipy\n",
    "from scipy.interpolate import interp1d\n",
    "for xx in [1]:#range(len(k_out)):\n",
    "    pt0 = pts0[xx]\n",
    "    pt50 = pts50[xx]\n",
    "    pt100 = pts100[xx]\n",
    "    pt500 = pts500[xx]\n",
    "    \n",
    "    \n",
    "    tau100 = pt100['tau [Mpc]']\n",
    "    tau500 = pt500['tau [Mpc]']\n",
    "    tau50 = pt50['tau [Mpc]']\n",
    "    tau0 = pt0['tau [Mpc]']\n",
    "    z0 = 1./pt0['a']-1\n",
    "    z_of_tau = interp1d(tau0, z0)\n",
    "    tau_of_z = interp1d(z0, tau0)\n",
    "    def tick_function(X):\n",
    "        V = z_of_tau(X)\n",
    "        return [\"%.1f\" % z for z in V]\n",
    "    \n",
    "    \n",
    "    Nx=2\n",
    "    Ny=2\n",
    "\n",
    "    f, axes = plt.subplots(2,2,sharex=True,figsize=(figwidth2,figheight2))\n",
    "\n",
    "    pttype = [['A_nm','B_nm'],['H_L_nm','H_T_nm']]\n",
    "    texnames = {'H_L_nm':r'H_\\mathrm{L}','H_T_nm':r'H_\\mathrm{T}','A_nm':'A','B_nm':'B'}\n",
    "    \n",
    "    #if xx==2:\n",
    "    #    legpos = {'H_L_nm':r'upper left','H_T_nm':r'upper right','A_nm':'upper right','B_nm':'lower right'}\n",
    "    #elif xx==0:\n",
    "    #    legpos = {'H_L_nm':r'upper left','H_T_nm':r'upper left','A_nm':'lower right','B_nm':'lower right'}\n",
    "    if xx==2:\n",
    "        legpos = {'H_L_nm':'upper left','H_T_nm':'upper left','A_nm':'best','B_nm':'best'}\n",
    "#        legpos = {'H_L_nm':'lower left','H_T_nm':'lower left','A_nm':'best','B_nm':'best'}\n",
    "    else:\n",
    "        legpos = {'H_L_nm':'best','H_T_nm':'best','A_nm':'best','B_nm':'best'}\n",
    "    \n",
    "    yscale = {'H_L_nm':'linear','H_T_nm':'linear','A_nm':'log','B_nm':'log'}\n",
    "\n",
    "    ylimits = {'H_L_nm':[-0.01,0.2],'H_T_nm':[1.4,4.5],'A_nm':[1e-7,1e2],'B_nm':[1e-1,1e2]}\n",
    "\n",
    "\n",
    "    \n",
    "    def trsf(y,ptt):\n",
    "        if ptt[0]=='H':\n",
    "            return y\n",
    "        else:\n",
    "#            return np.abs(y)\n",
    "            return y\n",
    "\n",
    "    \n",
    "    for i in range(Nx):\n",
    "        for j in range(Ny):\n",
    "            ptt = pttype[i][j]\n",
    "            ax = axes[i][j]\n",
    "                \n",
    "            ax.plot(tau0,trsf(pt0[ptt],ptt),lw=lw)\n",
    "            #ax.plot(tau50,trsf(pt50[ptt],ptt),ls='-.',lw=lw)\n",
    "            ax.plot(tau100,trsf(pt100[ptt],ptt),ls='--',lw=lw)\n",
    "            ax.plot(tau500,trsf(pt500[ptt],ptt),ls=':',lw=lw)\n",
    "            leg = ['$'+texnames[ptt]+r'^\\mathrm{Nb}$',\n",
    "            #       '$'+texnames[ptt]+r'^\\mathrm{Nm50}$',\n",
    "                   '$'+texnames[ptt]+r'^\\mathrm{Nm100}$',\n",
    "                   '$'+texnames[ptt]+r'^\\mathrm{Nm500}$']\n",
    "            ax.legend(leg,ncol=1,loc=legpos[ptt],fontsize=fs, framealpha=0.7) #,labelspacing=0.2\n",
    "            #ax.legend(leg,ncol=2,loc=legpos[ptt],fontsize=fs, framealpha=0.7,\n",
    "            #         columnspacing=0.9,handletextpad=0.1)\n",
    "            #,borderpad=0.2, labelspacing=0.1,  handletextpad=0.1, handlelength=0.004,borderaxespad=0.3) #,labelspacing=0.2\n",
    "            \n",
    "            #ax.set_xlim([0,15000])\n",
    "            \n",
    "            #if xx==2:\n",
    "            #    ax.set_ylim(ylimits[ptt])\n",
    "            #elif ptt=='H_L_nm':\n",
    "            #    yls = ax.get_ylim()\n",
    "            #    ax.set_ylim([yls[0]-0.05*yls[1],yls[1]])\n",
    "            #ax.set_yscale(yscale[ptt])\n",
    "            if xx==1:\n",
    "                if ptt=='H_L_nm':\n",
    "                    ax.set_ylim([-0.1,0.7])\n",
    "            elif xx==2:\n",
    "                if ptt=='H_L_nm':\n",
    "                    ax.set_ylim([-0.2,0.6])\n",
    "                elif ptt=='H_T_nm':\n",
    "                    ax.set_ylim([-3.0, 0.5])\n",
    "            theticks = [k*3000 for k in range(6)]\n",
    "            \n",
    "            ax.set_xticks(theticks)\n",
    "            ax.set_xlim([0,max(tau0)])\n",
    "            \n",
    "            #Try to add second axis\n",
    "            if i==0:\n",
    "                ax2 = ax.twiny()\n",
    "#                new_tick_locations = np.array([3000, 6000, 9000, 12000, max(tau0)])\n",
    "                zticks = [100,10,5,2,1,0]\n",
    "                new_tick_locations = tau_of_z(zticks)\n",
    "                ax2.set_xticks(new_tick_locations)\n",
    "                #ax2.set_xticklabels(tick_function(new_tick_locations))\n",
    "                ax2.set_xticklabels(zticks)\n",
    "                ax2.set_xlabel(r'$\\mathrm{redshift}\\,z$',fontsize=fs)\n",
    "\n",
    "\n",
    "            #ax.set_xscale('log')\n",
    "    for j in range(2):\n",
    "        axes[1,j].set_xlabel(r'$\\tau\\quad [\\mathrm{Mpc}]$',fontsize=fs)\n",
    "    f.tight_layout()\n",
    "    if xx==0:\n",
    "        f.subplots_adjust(wspace=0.3, hspace=0.1)\n",
    "    else:\n",
    "        f.subplots_adjust(wspace=0.2, hspace=0.1)\n",
    "    fname = 'Zmetricpotentialsk'+str(k_out[xx])+'.pdf'\n",
    "    f.savefig(fname, bbox_inches='tight')  \n",
    "  "
   ]
  },
  {
   "cell_type": "code",
   "execution_count": 12,
   "metadata": {
    "collapsed": false
   },
   "outputs": [
    {
     "name": "stdout",
     "output_type": "stream",
     "text": [
      "dict_keys(['HCtheta_prime', 'L_prime', 'B_nm', 'A_nm', 'delta_ur', 'delta_cdm', 'theta_cdm', 'CHT_chi', 'theta_ur', 'HCAnb_prime', 'HCAnb', 'phi', 'psi', 'H_T_nm', 'shear_ur', 'HCtheta', 'L', 'delta_g', 'H_L_nm', 'delta_b', 'a', 'theta_g', 'pol0_g', 'theta_b', 'CHT_sigma', 'shear_g', 'tau [Mpc]', 'delta_N', 'pol2_g', 'pol1_g'])\n"
     ]
    }
   ],
   "source": [
    "print pt0.viewkeys()"
   ]
  },
  {
   "cell_type": "code",
   "execution_count": 8,
   "metadata": {
    "collapsed": false
   },
   "outputs": [
    {
     "name": "stderr",
     "output_type": "stream",
     "text": [
      "/Users/thomas/anaconda/lib/python2.7/site-packages/IPython/kernel/__main__.py:10: RuntimeWarning: overflow encountered in square\n",
      "/Users/thomas/anaconda/lib/python2.7/site-packages/IPython/kernel/__main__.py:17: RuntimeWarning: overflow encountered in square\n"
     ]
    },
    {
     "ename": "ValueError",
     "evalue": "Data has no positive values, and therefore can not be log-scaled.",
     "output_type": "error",
     "traceback": [
      "\u001b[0;31m---------------------------------------------------------------------------\u001b[0m",
      "\u001b[0;31mValueError\u001b[0m                                Traceback (most recent call last)",
      "\u001b[0;32m<ipython-input-8-2866bf98d217>\u001b[0m in \u001b[0;36m<module>\u001b[0;34m()\u001b[0m\n\u001b[1;32m     15\u001b[0m \u001b[0;34m\u001b[0m\u001b[0m\n\u001b[1;32m     16\u001b[0m \u001b[0mfactor\u001b[0m \u001b[0;34m=\u001b[0m \u001b[0;36m2\u001b[0m\u001b[0;34m*\u001b[0m\u001b[0mnp\u001b[0m\u001b[0;34m.\u001b[0m\u001b[0mpi\u001b[0m\u001b[0;34m**\u001b[0m\u001b[0;36m2\u001b[0m\u001b[0;34m*\u001b[0m\u001b[0mpk_prim\u001b[0m\u001b[0;34m(\u001b[0m\u001b[0mk\u001b[0m\u001b[0;34m)\u001b[0m\u001b[0;34m/\u001b[0m\u001b[0mk\u001b[0m\u001b[0;34m**\u001b[0m\u001b[0;36m3\u001b[0m\u001b[0;34m\u001b[0m\u001b[0m\n\u001b[0;32m---> 17\u001b[0;31m \u001b[0maxes\u001b[0m\u001b[0;34m.\u001b[0m\u001b[0mloglog\u001b[0m\u001b[0;34m(\u001b[0m\u001b[0mk\u001b[0m\u001b[0;34m,\u001b[0m\u001b[0mfactor\u001b[0m\u001b[0;34m*\u001b[0m\u001b[0mtks0_0\u001b[0m\u001b[0;34m[\u001b[0m\u001b[0;34m'L_prime'\u001b[0m\u001b[0;34m]\u001b[0m\u001b[0;34m**\u001b[0m\u001b[0;36m2\u001b[0m\u001b[0;34m)\u001b[0m\u001b[0;34m\u001b[0m\u001b[0m\n\u001b[0m\u001b[1;32m     18\u001b[0m \u001b[0;31m#axes.loglog(k,pk)\u001b[0m\u001b[0;34m\u001b[0m\u001b[0;34m\u001b[0m\u001b[0m\n\u001b[1;32m     19\u001b[0m \u001b[0maxes\u001b[0m\u001b[0;34m.\u001b[0m\u001b[0mloglog\u001b[0m\u001b[0;34m(\u001b[0m\u001b[0;34m*\u001b[0m\u001b[0mget_H_L_contribution\u001b[0m\u001b[0;34m(\u001b[0m\u001b[0mtks0_500\u001b[0m\u001b[0;34m)\u001b[0m\u001b[0;34m)\u001b[0m\u001b[0;34m\u001b[0m\u001b[0m\n",
      "\u001b[0;32m/Users/thomas/anaconda/lib/python2.7/site-packages/matplotlib/axes/_axes.pyc\u001b[0m in \u001b[0;36mloglog\u001b[0;34m(self, *args, **kwargs)\u001b[0m\n\u001b[1;32m   1507\u001b[0m         \u001b[0mb\u001b[0m \u001b[0;34m=\u001b[0m \u001b[0mself\u001b[0m\u001b[0;34m.\u001b[0m\u001b[0m_hold\u001b[0m\u001b[0;34m\u001b[0m\u001b[0m\n\u001b[1;32m   1508\u001b[0m         \u001b[0mself\u001b[0m\u001b[0;34m.\u001b[0m\u001b[0m_hold\u001b[0m \u001b[0;34m=\u001b[0m \u001b[0mTrue\u001b[0m  \u001b[0;31m# we've already processed the hold\u001b[0m\u001b[0;34m\u001b[0m\u001b[0m\n\u001b[0;32m-> 1509\u001b[0;31m         \u001b[0ml\u001b[0m \u001b[0;34m=\u001b[0m \u001b[0mself\u001b[0m\u001b[0;34m.\u001b[0m\u001b[0mplot\u001b[0m\u001b[0;34m(\u001b[0m\u001b[0;34m*\u001b[0m\u001b[0margs\u001b[0m\u001b[0;34m,\u001b[0m \u001b[0;34m**\u001b[0m\u001b[0mkwargs\u001b[0m\u001b[0;34m)\u001b[0m\u001b[0;34m\u001b[0m\u001b[0m\n\u001b[0m\u001b[1;32m   1510\u001b[0m         \u001b[0mself\u001b[0m\u001b[0;34m.\u001b[0m\u001b[0m_hold\u001b[0m \u001b[0;34m=\u001b[0m \u001b[0mb\u001b[0m  \u001b[0;31m# restore the hold\u001b[0m\u001b[0;34m\u001b[0m\u001b[0m\n\u001b[1;32m   1511\u001b[0m \u001b[0;34m\u001b[0m\u001b[0m\n",
      "\u001b[0;32m/Users/thomas/anaconda/lib/python2.7/site-packages/matplotlib/axes/_axes.pyc\u001b[0m in \u001b[0;36mplot\u001b[0;34m(self, *args, **kwargs)\u001b[0m\n\u001b[1;32m   1375\u001b[0m             \u001b[0mlines\u001b[0m\u001b[0;34m.\u001b[0m\u001b[0mappend\u001b[0m\u001b[0;34m(\u001b[0m\u001b[0mline\u001b[0m\u001b[0;34m)\u001b[0m\u001b[0;34m\u001b[0m\u001b[0m\n\u001b[1;32m   1376\u001b[0m \u001b[0;34m\u001b[0m\u001b[0m\n\u001b[0;32m-> 1377\u001b[0;31m         \u001b[0mself\u001b[0m\u001b[0;34m.\u001b[0m\u001b[0mautoscale_view\u001b[0m\u001b[0;34m(\u001b[0m\u001b[0mscalex\u001b[0m\u001b[0;34m=\u001b[0m\u001b[0mscalex\u001b[0m\u001b[0;34m,\u001b[0m \u001b[0mscaley\u001b[0m\u001b[0;34m=\u001b[0m\u001b[0mscaley\u001b[0m\u001b[0;34m)\u001b[0m\u001b[0;34m\u001b[0m\u001b[0m\n\u001b[0m\u001b[1;32m   1378\u001b[0m         \u001b[0;32mreturn\u001b[0m \u001b[0mlines\u001b[0m\u001b[0;34m\u001b[0m\u001b[0m\n\u001b[1;32m   1379\u001b[0m \u001b[0;34m\u001b[0m\u001b[0m\n",
      "\u001b[0;32m/Users/thomas/anaconda/lib/python2.7/site-packages/matplotlib/axes/_base.pyc\u001b[0m in \u001b[0;36mautoscale_view\u001b[0;34m(self, tight, scalex, scaley)\u001b[0m\n\u001b[1;32m   1982\u001b[0m                 \u001b[0my1\u001b[0m \u001b[0;34m+=\u001b[0m \u001b[0mdelta\u001b[0m\u001b[0;34m\u001b[0m\u001b[0m\n\u001b[1;32m   1983\u001b[0m             \u001b[0;32mif\u001b[0m \u001b[0;32mnot\u001b[0m \u001b[0m_tight\u001b[0m\u001b[0;34m:\u001b[0m\u001b[0;34m\u001b[0m\u001b[0m\n\u001b[0;32m-> 1984\u001b[0;31m                 \u001b[0my0\u001b[0m\u001b[0;34m,\u001b[0m \u001b[0my1\u001b[0m \u001b[0;34m=\u001b[0m \u001b[0mylocator\u001b[0m\u001b[0;34m.\u001b[0m\u001b[0mview_limits\u001b[0m\u001b[0;34m(\u001b[0m\u001b[0my0\u001b[0m\u001b[0;34m,\u001b[0m \u001b[0my1\u001b[0m\u001b[0;34m)\u001b[0m\u001b[0;34m\u001b[0m\u001b[0m\n\u001b[0m\u001b[1;32m   1985\u001b[0m             \u001b[0mself\u001b[0m\u001b[0;34m.\u001b[0m\u001b[0mset_ybound\u001b[0m\u001b[0;34m(\u001b[0m\u001b[0my0\u001b[0m\u001b[0;34m,\u001b[0m \u001b[0my1\u001b[0m\u001b[0;34m)\u001b[0m\u001b[0;34m\u001b[0m\u001b[0m\n\u001b[1;32m   1986\u001b[0m \u001b[0;34m\u001b[0m\u001b[0m\n",
      "\u001b[0;32m/Users/thomas/anaconda/lib/python2.7/site-packages/matplotlib/ticker.pyc\u001b[0m in \u001b[0;36mview_limits\u001b[0;34m(self, vmin, vmax)\u001b[0m\n\u001b[1;32m   1523\u001b[0m         \u001b[0;32mif\u001b[0m \u001b[0mminpos\u001b[0m \u001b[0;34m<=\u001b[0m \u001b[0;36m0\u001b[0m \u001b[0;32mor\u001b[0m \u001b[0;32mnot\u001b[0m \u001b[0mnp\u001b[0m\u001b[0;34m.\u001b[0m\u001b[0misfinite\u001b[0m\u001b[0;34m(\u001b[0m\u001b[0mminpos\u001b[0m\u001b[0;34m)\u001b[0m\u001b[0;34m:\u001b[0m\u001b[0;34m\u001b[0m\u001b[0m\n\u001b[1;32m   1524\u001b[0m             raise ValueError(\n\u001b[0;32m-> 1525\u001b[0;31m                 \u001b[0;34m\"Data has no positive values, and therefore can not be \"\u001b[0m\u001b[0;34m\u001b[0m\u001b[0m\n\u001b[0m\u001b[1;32m   1526\u001b[0m                 \"log-scaled.\")\n\u001b[1;32m   1527\u001b[0m \u001b[0;34m\u001b[0m\u001b[0m\n",
      "\u001b[0;31mValueError\u001b[0m: Data has no positive values, and therefore can not be log-scaled."
     ]
    },
    {
     "data": {
      "image/png": "[encoded data removed]",
      "text/plain": [
       "<matplotlib.figure.Figure at 0x109cdbf90>"
      ]
     },
     "metadata": {},
     "output_type": "display_data"
    }
   ],
   "source": [
    "h = cosmo[500].h()\n",
    "pm = cosmo[500].get_primordial()\n",
    "pk_prim = interp1d(pm['k [1/Mpc]'],pm['P_scalar(k)'])\n",
    "def get_H_L_contribution(tk):\n",
    "    k = tk['k (h/Mpc)']*h\n",
    "    factor = 2*np.pi**2*pk_prim(k)/k**3\n",
    "    return k,factor*np.abs((tk['L_prime']- k*tk['L'])**2 - tk['L_prime']**2)\n",
    "\n",
    "f, axes = plt.subplots(1,1,figsize=(figwidth1,figheight1))\n",
    "k,tks0_0['L_prime']**2/k**3\n",
    "\n",
    "k = tks0_0['k (h/Mpc)']*h\n",
    "\n",
    "pk = [cosmo[500].pk(kk,0.) for kk in k]\n",
    "\n",
    "factor = 2*np.pi**2*pk_prim(k)/k**3\n",
    "axes.loglog(k,factor*tks0_0['L_prime']**2)\n",
    "#axes.loglog(k,pk)\n",
    "axes.loglog(*get_H_L_contribution(tks0_500))\n",
    "axes.loglog(*get_H_L_contribution(tks0_100))\n",
    "axes.loglog(*get_H_L_contribution(tks0_50))\n",
    "\n",
    "axes.set_xlim(1e-5,1e0)\n",
    "axes.set_ylim(1e-2,1e6)\n",
    "axes.set_xlabel(r'$k\\quad [\\mathrm{Mpc}^{-1}]$',fontsize=fs)\n",
    "axes.set_ylabel(r'$P(k)\\quad [\\mathrm{Mpc}^{3}]$',fontsize=fs)\n",
    "#leg = [r'$\\left|\\delta^\\mathrm{Nm}\\right|^2=\\hspace{0.5}\\left|\\delta^\\mathrm{Nb}\\right|^2$']\n",
    "leg = [r'$|\\delta^\\mathrm{Nm}|^2=\\hspace{0.3}|\\delta^\\mathrm{Nb}|^2$']\n",
    "for zini in [500,100,50]:\n",
    "    leg.append(r'$|\\delta^\\mathrm{Nm}|^2-\\hspace{0.3}|\\delta^\\mathrm{N'+str(zini)+r'}|^2$')\n",
    "l = axes.legend(leg,loc='upper left',fontsize=fs,ncol=1,bbox_to_anchor=(1., 1.04))\n",
    "f.tight_layout()\n",
    "f.savefig('HLcontribution.pdf', bbox_inches='tight',bbox_extra_artists=(l,))  \n"
   ]
  },
  {
   "cell_type": "code",
   "execution_count": null,
   "metadata": {
    "collapsed": false
   },
   "outputs": [],
   "source": [
    "f, axes = plt.subplots(1,2,figsize=(figwidth2,0.9*figheight1),sharex=True, sharey=True)\n",
    "h = cosmo[50].h()\n",
    "axes[0].semilogx(tks0_50['k (h/Mpc)']/h,tks0_50['L'] ,lw=1)\n",
    "axes[0].semilogx(tks0_50_r['k (h/Mpc)']/h,tks0_50_r['L'] ,lw=lw,ls='--')\n",
    "axes[0].semilogx(tks0_50_g['k (h/Mpc)']/h,tks0_50_g['L'] ,lw=lw,ls=':')\n",
    "\n",
    "axes[1].semilogx(tks0_100['k (h/Mpc)']/h,tks0_100['L'] ,lw=1)\n",
    "axes[1].semilogx(tks0_100_r['k (h/Mpc)']/h,tks0_100_r['L'] ,lw=lw,ls='--')\n",
    "axes[1].semilogx(tks0_100_g['k (h/Mpc)']/h,tks0_100_g['L'] ,lw=lw,ls=':')\n",
    "\n",
    "axes[0].set_xlim([1e-4,1e-1])\n",
    "\n",
    "leg = [r'$L_\\mathrm{tot}$', r'$L_{\\delta_\\mathrm{other}}$', r'$L_\\gamma$']\n",
    "\n",
    "zini = [50,100]\n",
    "for j in [0,1]:\n",
    "    ax = axes[j]\n",
    "    ax.set_yscale('symlog',linthreshy=1)\n",
    "    ax.set_ylim([-1e3,1e3])\n",
    "    ax.set_xlabel(r'$k\\quad [\\mathrm{Mpc}^{-1}]$',fontsize=fs)\n",
    "    ax.legend(leg,loc='lower left',fontsize=fs,ncol=1,fancybox=False, framealpha=0.7)\n",
    "    ax.set_title(r'$z_\\mathrm{ini}='+str(zini[j])+'$',fontsize=fs)\n",
    "#l = axes[1].legend(leg,loc='lower right',fontsize=fs,ncol=3,bbox_to_anchor=(1., 1.04))\n",
    "#axes[0].set_ylim([1e-1,1e3])\n",
    "f.tight_layout()\n",
    "f.subplots_adjust(wspace=0.15)\n",
    "f.savefig('LTransferContributions.pdf', bbox_inches='tight')  "
   ]
  },
  {
   "cell_type": "code",
   "execution_count": null,
   "metadata": {
    "collapsed": false
   },
   "outputs": [],
   "source": [
    "f, axes = plt.subplots(1,2,figsize=(figwidth2,0.9*figheight1),sharex=True, sharey=True)\n",
    "h = cosmo[50].h()\n",
    "axes[0].semilogx(tks0_50['k (h/Mpc)']/h,np.abs(tks0_50['L']) ,lw=1)\n",
    "axes[0].semilogx(tks0_50_r['k (h/Mpc)']/h,np.abs(tks0_50_r['L']) ,lw=lw,ls='--')\n",
    "axes[0].semilogx(tks0_50_g['k (h/Mpc)']/h,np.abs(tks0_50_g['L']) ,lw=lw,ls=':')\n",
    "\n",
    "axes[1].semilogx(tks0_100['k (h/Mpc)']/h,np.abs(tks0_100['L']) ,lw=1)\n",
    "axes[1].semilogx(tks0_100_r['k (h/Mpc)']/h,np.abs(tks0_100_r['L']) ,lw=lw,ls='--')\n",
    "axes[1].semilogx(tks0_100_g['k (h/Mpc)']/h,np.abs(tks0_100_g['L']) ,lw=lw,ls=':')\n",
    "\n",
    "axes[0].set_xlim([1e-4,1e-1])\n",
    "\n",
    "leg = [r'$L_\\mathrm{tot}$', r'$L_\\gamma$', r'$L_{\\delta_\\mathrm{other}}$']\n",
    "\n",
    "zini = [50,100]\n",
    "for j in [0,1]:\n",
    "    ax = axes[j]\n",
    "    ax.set_yscale('log')\n",
    "    ax.set_ylim([1e-3,1e3])\n",
    "    ax.set_xlabel(r'$k\\quad [\\mathrm{Mpc}^{-1}]$',fontsize=fs)\n",
    "    ax.legend(leg,loc='lower left',fontsize=fs,ncol=1,fancybox=False, framealpha=0.7)\n",
    "    ax.set_title(r'$z_\\mathrm{ini}='+str(zini[j])+'$',fontsize=fs)\n",
    "#l = axes[1].legend(leg,loc='lower right',fontsize=fs,ncol=3,bbox_to_anchor=(1., 1.04))\n",
    "#axes[0].set_ylim([1e-1,1e3])\n",
    "f.tight_layout()\n",
    "f.subplots_adjust(wspace=0.15)\n",
    "f.savefig('LTransferContributionsAbs.pdf', bbox_inches='tight')  "
   ]
  },
  {
   "cell_type": "code",
   "execution_count": null,
   "metadata": {
    "collapsed": false
   },
   "outputs": [],
   "source": [
    "f, axes = plt.subplots(1,2,figsize=(figwidth2,0.9*figheight1),sharex=True, sharey=True)\n",
    "h = cosmo[50].h()\n",
    "\n",
    "def get_k_and_L(tk):\n",
    "    return tk['k (h/Mpc)']/h,tk['L']\n",
    "\n",
    "axes[0].semilogx(*get_k_and_L(tks0_100),lw=1)\n",
    "axes[0].semilogx(*get_k_and_L(tks10_100),lw=1)\n",
    "axes[0].semilogx(*get_k_and_L(tks50_100),lw=1)\n",
    "axes[0].semilogx(*get_k_and_L(tks75_100),lw=1)\n",
    "\n",
    "axes[1].semilogx(*get_k_and_L(tks0_500),lw=1)\n",
    "axes[1].semilogx(*get_k_and_L(tks10_500),lw=1)\n",
    "axes[1].semilogx(*get_k_and_L(tks100_500),lw=1)\n",
    "axes[1].semilogx(*get_k_and_L(tks200_500),lw=1)\n",
    "\n",
    "\n",
    "axes[0].set_xlim([1e-4,1e0])\n",
    "\n",
    "zvecs = [[0,10,50,75],[0,10,100,200]]\n",
    "\n",
    "\n",
    "\n",
    "zini = [100,500]\n",
    "for j in [0,1]:\n",
    "    ax = axes[j]\n",
    "    ax.set_yscale('symlog',linthreshy=1)\n",
    "    ax.set_ylim([-1e3,1e3])\n",
    "    ax.set_xlabel(r'$k\\quad [\\mathrm{Mpc}^{-1}]$',fontsize=fs)\n",
    "    leg = [r'$L(z='+str(z)+')$' for z in zvecs[j]]\n",
    "    ax.legend(leg,loc='lower center',fontsize=fs,ncol=2,fancybox=False, framealpha=0.7,\n",
    "             columnspacing=0.9,\n",
    "              borderpad=0.2,\n",
    "              labelspacing=0.1, \n",
    "              #handlelength=0.004,\n",
    "              handletextpad=0.1,\n",
    "              #borderaxespad=0.3\n",
    "             )\n",
    "    ax.set_title(r'$z_\\mathrm{ini}='+str(zini[j])+'$',fontsize=fs)\n",
    "#l = axes[1].legend(leg,loc='lower right',fontsize=fs,ncol=3,bbox_to_anchor=(1., 1.04))\n",
    "axes[0].set_ylim([-1e5,1e4])\n",
    "f.tight_layout()\n",
    "f.subplots_adjust(wspace=0.15)\n",
    "f.savefig('LTransferEvolution.pdf', bbox_inches='tight') "
   ]
  },
  {
   "cell_type": "code",
   "execution_count": null,
   "metadata": {
    "collapsed": false
   },
   "outputs": [],
   "source": [
    "f, axes = plt.subplots(2,2,figsize=(figwidth2,figheight2),sharex=True, sharey=False)\n",
    "h = cosmo[50].h()\n",
    "\n",
    "def get_k_and_L(tk):\n",
    "    return tk['k (h/Mpc)']/h,tk['L']\n",
    "def get_k_and_L_rescaled(tk):\n",
    "    #tks0_100['L_prime']/tks5_100['L_prime']  *tks5_100['L']\n",
    "    rescale = tk0['L_prime']/tk['L_prime']\n",
    "#    return tk['k (h/Mpc)']/h,np.abs(tk['L']*rescale)\n",
    "    return tk['k (h/Mpc)']/h,tk['L']*rescale\n",
    "\n",
    "axes[0,0].semilogx(*get_k_and_L(tks0_100),lw=1)\n",
    "axes[0,0].semilogx(*get_k_and_L(tks10_100),lw=1)\n",
    "axes[0,0].semilogx(*get_k_and_L(tks50_100),lw=1)\n",
    "axes[0,0].semilogx(*get_k_and_L(tks75_100),lw=1)\n",
    "\n",
    "axes[0,1].semilogx(*get_k_and_L(tks0_500),lw=1)\n",
    "axes[0,1].semilogx(*get_k_and_L(tks10_500),lw=1)\n",
    "axes[0,1].semilogx(*get_k_and_L(tks100_500),lw=1)\n",
    "axes[0,1].semilogx(*get_k_and_L(tks200_500),lw=1)\n",
    "\n",
    "tk0 = tks0_100\n",
    "axes[1,0].semilogx(*get_k_and_L_rescaled(tks0_100),lw=1)\n",
    "axes[1,0].semilogx(*get_k_and_L_rescaled(tks10_100),lw=1)\n",
    "axes[1,0].semilogx(*get_k_and_L_rescaled(tks50_100),lw=1)\n",
    "axes[1,0].semilogx(*get_k_and_L_rescaled(tks75_100),lw=1)\n",
    "\n",
    "tk0 = tks0_500\n",
    "axes[1,1].semilogx(*get_k_and_L_rescaled(tks0_500),lw=1)\n",
    "axes[1,1].semilogx(*get_k_and_L_rescaled(tks10_500),lw=1)\n",
    "axes[1,1].semilogx(*get_k_and_L_rescaled(tks100_500),lw=1)\n",
    "axes[1,1].semilogx(*get_k_and_L_rescaled(tks200_500),lw=1)\n",
    "\n",
    "axes[0,0].set_xlim([1e-4,1e0])\n",
    "\n",
    "zvecs = [[0,10,50,75],[0,10,100,200]]\n",
    "\n",
    "\n",
    "\n",
    "zini = [100,500]\n",
    "for j in [0,1]:\n",
    "    for m in [0,1]:\n",
    "        ax = axes[m,j]\n",
    "        if m==0:\n",
    "            leg = [r'$L(z='+str(z)+')$' for z in zvecs[j]]\n",
    "            ax.set_yscale('symlog',linthreshy=1)\n",
    "            ax.set_ylim([-1e5,1e4])\n",
    "        elif m==1:\n",
    "            leg = [r'$\\hat{L}(z='+str(z)+')$' for z in zvecs[j]]\n",
    "            ax.set_xlabel(r'$k\\quad [\\mathrm{Mpc}^{-1}]$',fontsize=fs)\n",
    "#            ax.set_yscale('log')\n",
    "#            ax.set_ylim([1e-4,1e4])\n",
    "            ax.set_yscale('linear')\n",
    "            if j==0:\n",
    "                ax.set_ylim([-250,250])\n",
    "            elif j==1:\n",
    "                ax.set_ylim([-3500,3500])\n",
    "        ax.legend(leg,loc='lower center',fontsize=fs,ncol=2,fancybox=False, framealpha=0.7,\n",
    "             columnspacing=0.9,\n",
    "              borderpad=0.2,\n",
    "              labelspacing=0.1, \n",
    "              handlelength=1.5,\n",
    "              handletextpad=0.1,\n",
    "              #borderaxespad=0.3\n",
    "             )\n",
    "        if m==0:\n",
    "            ax.set_title(r'$z_\\mathrm{ini}='+str(zini[j])+'$',fontsize=fs)\n",
    "#l = axes[1].legend(leg,loc='lower right',fontsize=fs,ncol=3,bbox_to_anchor=(1., 1.04))\n",
    "axes[0,0].set_ylim([-1e5,1e4])\n",
    "f.tight_layout()\n",
    "f.subplots_adjust(hspace=0.1,wspace=0.3)\n",
    "f.savefig('LTransferEvolution2x2.pdf', bbox_inches='tight') "
   ]
  },
  {
   "cell_type": "code",
   "execution_count": null,
   "metadata": {
    "collapsed": false
   },
   "outputs": [],
   "source": [
    "f, axes = plt.subplots(2,2,figsize=(figwidth2,figheight2),sharex=True, sharey=False)\n",
    "h = cosmo[50].h()\n",
    "\n",
    "def get_k_and_L(tk):\n",
    "    return tk['k (h/Mpc)']/h,np.abs(tk['L'])\n",
    "def get_k_and_L_rescaled(tk):\n",
    "    #tks0_100['L_prime']/tks5_100['L_prime']  *tks5_100['L']\n",
    "    rescale = tk0['L_prime']/tk['L_prime']\n",
    "#    return tk['k (h/Mpc)']/h,np.abs(tk['L']*rescale)\n",
    "    return tk['k (h/Mpc)']/h,tk['L']*rescale\n",
    "\n",
    "axes[0,0].semilogx(*get_k_and_L(tks0_100),lw=1)\n",
    "axes[0,0].semilogx(*get_k_and_L(tks10_100),lw=1)\n",
    "axes[0,0].semilogx(*get_k_and_L(tks50_100),lw=1)\n",
    "axes[0,0].semilogx(*get_k_and_L(tks75_100),lw=1)\n",
    "\n",
    "axes[0,1].semilogx(*get_k_and_L(tks0_500),lw=1)\n",
    "axes[0,1].semilogx(*get_k_and_L(tks10_500),lw=1)\n",
    "axes[0,1].semilogx(*get_k_and_L(tks100_500),lw=1)\n",
    "axes[0,1].semilogx(*get_k_and_L(tks200_500),lw=1)\n",
    "\n",
    "tk0 = tks0_100\n",
    "axes[1,0].semilogx(*get_k_and_L_rescaled(tks0_100),lw=1)\n",
    "axes[1,0].semilogx(*get_k_and_L_rescaled(tks10_100),lw=1)\n",
    "axes[1,0].semilogx(*get_k_and_L_rescaled(tks50_100),lw=1)\n",
    "axes[1,0].semilogx(*get_k_and_L_rescaled(tks75_100),lw=1)\n",
    "\n",
    "tk0 = tks0_500\n",
    "axes[1,1].semilogx(*get_k_and_L_rescaled(tks0_500),lw=1)\n",
    "axes[1,1].semilogx(*get_k_and_L_rescaled(tks10_500),lw=1)\n",
    "axes[1,1].semilogx(*get_k_and_L_rescaled(tks100_500),lw=1)\n",
    "axes[1,1].semilogx(*get_k_and_L_rescaled(tks200_500),lw=1)\n",
    "\n",
    "axes[0,0].set_xlim([1e-4,1e0])\n",
    "\n",
    "zvecs = [[0,10,50,75],[0,10,100,200]]\n",
    "\n",
    "\n",
    "\n",
    "zini = [100,500]\n",
    "for j in [0,1]:\n",
    "    for m in [0,1]:\n",
    "        ax = axes[m,j]\n",
    "        if m==0:\n",
    "            leg = [r'$|L(z='+str(z)+')|$' for z in zvecs[j]]\n",
    "            ax.set_yscale('log')\n",
    "            ax.set_ylim([1e-5,1e4])\n",
    "        elif m==1:\n",
    "            leg = [r'$\\hat{L}(z='+str(z)+')$' for z in zvecs[j]]\n",
    "            ax.set_xlabel(r'$k\\quad [\\mathrm{Mpc}^{-1}]$',fontsize=fs)\n",
    "#            ax.set_yscale('log')\n",
    "#            ax.set_ylim([1e-4,1e4])\n",
    "            ax.set_yscale('linear')\n",
    "            if j==0:\n",
    "                ax.set_ylim([-250,250])\n",
    "            elif j==1:\n",
    "                ax.set_ylim([-3500,3500])\n",
    "        ax.legend(leg,loc='lower center',fontsize=fs,ncol=2,fancybox=False, framealpha=0.7,\n",
    "             columnspacing=0.8,\n",
    "              borderpad=0.2,\n",
    "              labelspacing=0.1, \n",
    "              handlelength=1.5,\n",
    "              handletextpad=0.1,\n",
    "              #borderaxespad=0.3\n",
    "             )\n",
    "        if m==0:\n",
    "            ax.set_title(r'$z_\\mathrm{ini}='+str(zini[j])+'$',fontsize=fs)\n",
    "#l = axes[1].legend(leg,loc='lower right',fontsize=fs,ncol=3,bbox_to_anchor=(1., 1.04))\n",
    "f.tight_layout()\n",
    "f.subplots_adjust(hspace=0.1,wspace=0.25)\n",
    "f.savefig('LTransferEvolution2x2abs.pdf', bbox_inches='tight') "
   ]
  },
  {
   "cell_type": "code",
   "execution_count": null,
   "metadata": {
    "collapsed": false
   },
   "outputs": [],
   "source": [
    "f, axes = plt.subplots(2,2,figsize=(figwidth2,figheight2),sharex=True, sharey=False)\n",
    "h = cosmo[50].h()\n",
    "\n",
    "def get_k_and_L(tk):\n",
    "    return tk['k (h/Mpc)']/h,tk['L']\n",
    "def get_k_and_L_rescaled(tk):\n",
    "    #tks0_100['L_prime']/tks5_100['L_prime']  *tks5_100['L']\n",
    "    rescale = tk0['L_prime']/tk['L_prime']\n",
    "#    return tk['k (h/Mpc)']/h,np.abs(tk['L']*rescale)\n",
    "    return tk['k (h/Mpc)']/h,tk['L']*rescale\n",
    "\n",
    "axes[0,0].semilogx(*get_k_and_L(tks0_100),lw=1)\n",
    "axes[0,0].semilogx(*get_k_and_L(tks5_100),lw=1)\n",
    "axes[0,0].semilogx(*get_k_and_L(tks10_100),lw=1)\n",
    "axes[0,0].semilogx(*get_k_and_L(tks50_100),lw=1)\n",
    "\n",
    "axes[0,1].semilogx(*get_k_and_L(tks0_500),lw=1)\n",
    "axes[0,1].semilogx(*get_k_and_L(tks5_500),lw=1)\n",
    "axes[0,1].semilogx(*get_k_and_L(tks10_500),lw=1)\n",
    "axes[0,1].semilogx(*get_k_and_L(tks50_500),lw=1)\n",
    "\n",
    "tk0 = tks0_100\n",
    "axes[1,0].semilogx(*get_k_and_L_rescaled(tks0_100),lw=1)\n",
    "axes[1,0].semilogx(*get_k_and_L_rescaled(tks10_100),lw=1)\n",
    "axes[1,0].semilogx(*get_k_and_L_rescaled(tks50_100),lw=1)\n",
    "axes[1,0].semilogx(*get_k_and_L_rescaled(tks75_100),lw=1)\n",
    "\n",
    "tk0 = tks0_500\n",
    "axes[1,1].semilogx(*get_k_and_L_rescaled(tks0_500),lw=1)\n",
    "axes[1,1].semilogx(*get_k_and_L_rescaled(tks10_500),lw=1)\n",
    "axes[1,1].semilogx(*get_k_and_L_rescaled(tks100_500),lw=1)\n",
    "axes[1,1].semilogx(*get_k_and_L_rescaled(tks200_500),lw=1)\n",
    "\n",
    "axes[0,0].set_xlim([1e-4,1e0])\n",
    "\n",
    "\n",
    "\n",
    "\n",
    "\n",
    "zini = [100,500]\n",
    "for j in [0,1]:\n",
    "    for m in [0,1]:\n",
    "        ax = axes[m,j]\n",
    "        if m==0:\n",
    "            zvecs = [[0,5,10,50],[0,5,10,50]]\n",
    "            leg = [r'$L(z='+str(z)+')$' for z in zvecs[j]]\n",
    "            ax.set_yscale('linear')\n",
    "            #ax.set_ylim([-1e5,1e4])\n",
    "        elif m==1:\n",
    "            zvecs = [[0,10,50,75],[0,10,100,200]]\n",
    "            leg = [r'$\\hat{L}(z='+str(z)+')$' for z in zvecs[j]]\n",
    "            ax.set_xlabel(r'$k\\quad [\\mathrm{Mpc}^{-1}]$',fontsize=fs)\n",
    "#            ax.set_yscale('log')\n",
    "#            ax.set_ylim([1e-4,1e4])\n",
    "            ax.set_yscale('linear')\n",
    "            if j==0:\n",
    "                ax.set_ylim([-50,450])\n",
    "            elif j==1:\n",
    "                ax.set_ylim([-500,5500])\n",
    "        ax.legend(leg,loc='upper center',fontsize=fs,ncol=2,fancybox=False, framealpha=0.7,\n",
    "             columnspacing=0.9,\n",
    "              borderpad=0.2,\n",
    "              labelspacing=0.1, \n",
    "              handlelength=1.5,\n",
    "              handletextpad=0.1,\n",
    "              #borderaxespad=0.3\n",
    "             )\n",
    "        if m==0:\n",
    "            ax.set_title(r'$z_\\mathrm{ini}='+str(zini[j])+'$',fontsize=fs)\n",
    "#l = axes[1].legend(leg,loc='lower right',fontsize=fs,ncol=3,bbox_to_anchor=(1., 1.04))\n",
    "f.tight_layout()\n",
    "f.subplots_adjust(hspace=0.1,wspace=0.3)\n",
    "f.savefig('LTransferEvolution2x2lin.pdf', bbox_inches='tight') "
   ]
  },
  {
   "cell_type": "code",
   "execution_count": null,
   "metadata": {
    "collapsed": false
   },
   "outputs": [],
   "source": [
    "f, axes = plt.subplots(2,2,figsize=(figwidth2,figheight2),sharex=True, sharey='row')\n",
    "h = cosmo[50].h()\n",
    "\n",
    "def get_k_and_L(tk):\n",
    "    return tk['k (h/Mpc)']/h,tk['L']\n",
    "def get_k_and_L_rescaled(tk):\n",
    "    #tks0_100['L_prime']/tks5_100['L_prime']  *tks5_100['L']\n",
    "    rescale = tk0['L_prime']/tk['L_prime']\n",
    "#    return tk['k (h/Mpc)']/h,np.abs(tk['L']*rescale)\n",
    "    return tk['k (h/Mpc)']/h,tk['L']*rescale\n",
    "\n",
    "axes[0,0].semilogx(*get_k_and_L(tks0_100),lw=1)\n",
    "axes[0,0].semilogx(*get_k_and_L(tks5_100),lw=1)\n",
    "axes[0,0].semilogx(*get_k_and_L(tks10_100),lw=1)\n",
    "axes[0,0].semilogx(*get_k_and_L(tks50_100),lw=1)\n",
    "\n",
    "axes[1,0].semilogx(*get_k_and_L(tks0_500),lw=1)\n",
    "axes[1,0].semilogx(*get_k_and_L(tks5_500),lw=1)\n",
    "axes[1,0].semilogx(*get_k_and_L(tks10_500),lw=1)\n",
    "axes[1,0].semilogx(*get_k_and_L(tks50_500),lw=1)\n",
    "\n",
    "tk0 = tks0_100\n",
    "axes[0,1].semilogx(*get_k_and_L_rescaled(tks0_100),lw=1)\n",
    "axes[0,1].semilogx(*get_k_and_L_rescaled(tks10_100),lw=1)\n",
    "axes[0,1].semilogx(*get_k_and_L_rescaled(tks50_100),lw=1)\n",
    "axes[0,1].semilogx(*get_k_and_L_rescaled(tks75_100),lw=1)\n",
    "\n",
    "tk0 = tks0_500\n",
    "axes[1,1].semilogx(*get_k_and_L_rescaled(tks0_500),lw=1)\n",
    "axes[1,1].semilogx(*get_k_and_L_rescaled(tks10_500),lw=1)\n",
    "axes[1,1].semilogx(*get_k_and_L_rescaled(tks100_500),lw=1)\n",
    "axes[1,1].semilogx(*get_k_and_L_rescaled(tks200_500),lw=1)\n",
    "\n",
    "axes[0,0].set_xlim([1e-4,1e0])\n",
    "\n",
    "\n",
    "zvecs = [[[],[]],[[],[]]]\n",
    "zvecs[0][0] = [0,5,10,50]\n",
    "zvecs[1][0] = [0,5,10,50]\n",
    "zvecs[0][1] = [0,10,50,75]\n",
    "zvecs[1][1] = [0,10,100,200]\n",
    "\n",
    "\n",
    "\n",
    "zini = [100,500]\n",
    "for j in [0,1]:\n",
    "    for m in [0,1]:\n",
    "        ax = axes[m,j]\n",
    "        ax.set_yscale('linear')\n",
    "        leg = [r'$z='+str(z)+'$' for z in zvecs[m][j]]\n",
    "        if j==0:\n",
    "            ax.set_ylabel(r'$z_\\mathrm{ini}='+str(zini[m])+'$',fontsize=fs)\n",
    "        if m==0:\n",
    "            tits = [r'$L$',r'$\\hat{L}$']\n",
    "            ax.set_title(tits[j],fontsize=fs)\n",
    "            ax.set_ylim([-50,250])\n",
    "        elif m==1:\n",
    "            ax.set_xlabel(r'$k\\quad [\\mathrm{Mpc}^{-1}]$',fontsize=fs)\n",
    "            ax.set_ylim([-500,4500])\n",
    "        \n",
    "        ax.legend(leg,loc='upper right',fontsize=fs,ncol=1,fancybox=False, framealpha=0.7,\n",
    "             #columnspacing=0.9,\n",
    "              borderpad=0.2,\n",
    "              labelspacing=0.2, \n",
    "              handlelength=1.5,\n",
    "              handletextpad=0.1,\n",
    "              #borderaxespad=0.3\n",
    "             )\n",
    "        \n",
    "#l = axes[1].legend(leg,loc='lower right',fontsize=fs,ncol=3,bbox_to_anchor=(1., 1.04))\n",
    "f.tight_layout()\n",
    "f.subplots_adjust(hspace=0.1,wspace=0.1)\n",
    "f.savefig('LTransferEvolution2x2lin2.pdf', bbox_inches='tight') "
   ]
  },
  {
   "cell_type": "code",
   "execution_count": null,
   "metadata": {
    "collapsed": false
   },
   "outputs": [],
   "source": [
    "f, axes = plt.subplots(2,2,figsize=(figwidth2,figheight2),sharex=True, sharey='col')\n",
    "h = cosmo[50].h()\n",
    "\n",
    "def get_k_and_L(tk):\n",
    "    return tk['k (h/Mpc)']/h,tk['L']\n",
    "def get_k_and_L_rescaled(tk):\n",
    "    #tks0_100['L_prime']/tks5_100['L_prime']  *tks5_100['L']\n",
    "    rescale = tk0['L_prime']/tk['L_prime']\n",
    "#    return tk['k (h/Mpc)']/h,np.abs(tk['L']*rescale)\n",
    "    return tk['k (h/Mpc)']/h,tk['L']*rescale\n",
    "\n",
    "axes[0,0].semilogx(*get_k_and_L(tks0_100),lw=1)\n",
    "axes[0,0].semilogx(*get_k_and_L(tks5_100),lw=1)\n",
    "axes[0,0].semilogx(*get_k_and_L(tks10_100),lw=1)\n",
    "axes[0,0].semilogx(*get_k_and_L(tks50_100),lw=1)\n",
    "\n",
    "axes[0,1].semilogx(*get_k_and_L(tks0_500),lw=1)\n",
    "axes[0,1].semilogx(*get_k_and_L(tks5_500),lw=1)\n",
    "axes[0,1].semilogx(*get_k_and_L(tks10_500),lw=1)\n",
    "axes[0,1].semilogx(*get_k_and_L(tks50_500),lw=1)\n",
    "\n",
    "tk0 = tks0_100\n",
    "axes[1,0].semilogx(*get_k_and_L_rescaled(tks0_100),lw=1)\n",
    "axes[1,0].semilogx(*get_k_and_L_rescaled(tks10_100),lw=1)\n",
    "axes[1,0].semilogx(*get_k_and_L_rescaled(tks50_100),lw=1)\n",
    "axes[1,0].semilogx(*get_k_and_L_rescaled(tks75_100),lw=1)\n",
    "\n",
    "tk0 = tks0_500\n",
    "axes[1,1].semilogx(*get_k_and_L_rescaled(tks0_500),lw=1)\n",
    "axes[1,1].semilogx(*get_k_and_L_rescaled(tks10_500),lw=1)\n",
    "axes[1,1].semilogx(*get_k_and_L_rescaled(tks100_500),lw=1)\n",
    "axes[1,1].semilogx(*get_k_and_L_rescaled(tks200_500),lw=1)\n",
    "\n",
    "axes[0,0].set_xlim([1e-4,1e0])\n",
    "\n",
    "\n",
    "zvecs = [[[],[]],[[],[]]]\n",
    "zvecs[0][0] = [0,5,10,50]\n",
    "zvecs[1][0] = [0,5,10,50]\n",
    "zvecs[0][1] = [0,10,50,75]\n",
    "zvecs[1][1] = [0,10,100,200]\n",
    "\n",
    "\n",
    "\n",
    "zini = [100,500]\n",
    "ylabs = [r'$L^{{\\rm Nm}\\to{\\rm Nb}}$',r'$\\hat{L}^{{\\rm Nm}\\to{\\rm Nb}}$']\n",
    "for j in [0,1]:\n",
    "    for m in [0,1]:\n",
    "        ax = axes[m,j]\n",
    "        ax.set_yscale('linear')\n",
    "        leg = [r'$z='+str(z)+'$' for z in zvecs[m][j]]\n",
    "        if j==0:\n",
    "            ax.set_ylabel(ylabs[m],fontsize=fs)\n",
    "        if m==0:\n",
    "            ax.set_title(r'$z_\\mathrm{ini}='+str(zini[j])+'$',fontsize=fs)\n",
    "            #ax.set_ylim([-50,250])\n",
    "        elif m==1:\n",
    "            ax.set_xlabel(r'$k\\quad [\\mathrm{Mpc}^{-1}]$',fontsize=fs)\n",
    "            #ax.set_ylim([-500,4500])\n",
    "        \n",
    "        ax.legend(leg,loc='upper right',fontsize=fs,ncol=1,fancybox=False, framealpha=0.7,\n",
    "             #columnspacing=0.9,\n",
    "              borderpad=0.2,\n",
    "              labelspacing=0.2, \n",
    "              handlelength=1.5,\n",
    "              handletextpad=0.1,\n",
    "              #borderaxespad=0.3\n",
    "             )\n",
    "axes[1,1].set_ylim([-500,4500])     \n",
    "#l = axes[1].legend(leg,loc='lower right',fontsize=fs,ncol=3,bbox_to_anchor=(1., 1.04))\n",
    "f.tight_layout()\n",
    "f.subplots_adjust(hspace=0.1,wspace=0.3)\n",
    "f.savefig('LTransferEvolution2x2lin3.pdf', bbox_inches='tight') "
   ]
  },
  {
   "cell_type": "code",
   "execution_count": null,
   "metadata": {
    "collapsed": false
   },
   "outputs": [],
   "source": [
    "k = tks0_100['k (h/Mpc)']*cosmo[500].h()\n",
    "plt.loglog(\n",
    "           k,np.abs((tks0_500['L_prime']- k*tks0_500['L'])**2/k**3 \n",
    "                    - tks0_500['L_prime']**2/k**3),'r',\n",
    "           k,np.abs((tks0_100['L_prime']- k*tks0_100['L'])**2/k**3 \n",
    "                    - tks0_100['L_prime']**2/k**3),'r--',\n",
    "           k,np.abs((tks0_50['L_prime']- k*tks0_50['L'])**2/k**3 \n",
    "                    - tks0_50['L_prime']**2/k**3),'r:',\n",
    "           k,tks0_0['L_prime']**2/k**3,'b'\n",
    "            )\n",
    "plt.ylim([10000000,5000000000000])\n",
    "plt.xlim([0.0001,1])"
   ]
  },
  {
   "cell_type": "code",
   "execution_count": null,
   "metadata": {
    "collapsed": false
   },
   "outputs": [],
   "source": [
    "k = tks0_100['k (h/Mpc)']*cosmo[100].h()\n",
    "plt.loglog(k,np.abs( tks0_500['L']),\n",
    "           k,np.abs(1/k* tks0_500['L_prime'] ),':',\n",
    "           k,np.abs( tks0_100['L']),\n",
    "           k,np.abs( 1/k*tks0_100['L_prime'] ),'--',\n",
    "           k,np.abs( tks0_0['L']),\n",
    "           k,np.abs( 1/k*tks0_0['L_prime'] )\n",
    "           )\n",
    "plt.ylim([0.0001,1000000])"
   ]
  },
  {
   "cell_type": "code",
   "execution_count": null,
   "metadata": {
    "collapsed": false
   },
   "outputs": [],
   "source": [
    "ax = plt.gca()"
   ]
  },
  {
   "cell_type": "code",
   "execution_count": null,
   "metadata": {
    "collapsed": false
   },
   "outputs": [],
   "source": [
    "k = tks0_500['k (h/Mpc)']*cosmo[500].h()\n",
    "plt.loglog(k,np.abs( tks0_100['L']),'b',\n",
    "        \n",
    "           k,np.abs( tks0_100['L_prime'] ),'g',\n",
    "           k,np.abs(1/k* tks0_100['d_cdm'] ))\n",
    "plt.ylim([0.1,100000000])"
   ]
  },
  {
   "cell_type": "code",
   "execution_count": null,
   "metadata": {
    "collapsed": false
   },
   "outputs": [],
   "source": [
    "k = tks0_100['k (h/Mpc)']*cosmo[500].h()\n",
    "plt.loglog(k,np.abs(tks0_100['L_prime']/tks0_100['L_prime']  *tks0_100['L'] ),'b',\n",
    "           k,np.abs(tks0_100['L_prime']/tks5_100['L_prime']  *tks5_100['L'] ),'r',\n",
    "          k,np.abs(tks0_100['L_prime']/tks10_100['L_prime'] *tks10_100['L'] ),'r--',\n",
    "          k,np.abs(tks0_100['L_prime']/tks50_100['L_prime']*tks50_100['L'] ),'r-.',\n",
    "           k,np.abs(tks0_100['L_prime']/tks75_100['L_prime']*tks75_100['L'] ),'r:'\n",
    "          )\n",
    "plt.ylim([0.3,1000])\n",
    "plt.xlim([0.0001,0.1])"
   ]
  },
  {
   "cell_type": "code",
   "execution_count": null,
   "metadata": {
    "collapsed": false
   },
   "outputs": [],
   "source": [
    "h = cosmo[50].h()\n",
    "plt.loglog(\n",
    "           tks0_100['k (h/Mpc)']/h,np.abs( tks0_100['L'] ),'b',\n",
    "           tks0_50['k (h/Mpc)']/h,np.abs( tks0_50['L'] ),'b--'\n",
    "          )\n",
    "plt.ylim([0.1,1000])\n",
    "plt.xlim([0.0001,1])\n",
    "plt.figure()\n",
    "plt.loglog(\n",
    "           tks0_100_r['k (h/Mpc)']/h,np.abs( tks0_100_r['L'] ),'b',\n",
    "           tks0_50_r['k (h/Mpc)']/h,np.abs( tks0_50_r['L'] ),'b--'\n",
    "          )\n",
    "plt.ylim([0.1,1000])\n",
    "plt.xlim([0.0001,1])\n",
    "plt.figure()\n",
    "plt.loglog(\n",
    "           tks0_100_g['k (h/Mpc)']/h,np.abs( tks0_100_g['L'] ),'b',\n",
    "           tks0_50_g['k (h/Mpc)']/h,np.abs( tks0_50_g['L'] ),'b--'\n",
    "          )\n",
    "plt.ylim([0.1,1000])\n",
    "plt.xlim([0.0001,1])"
   ]
  },
  {
   "cell_type": "markdown",
   "metadata": {},
   "source": [
    "what about baryons in the evolving framweork, i need the actual growth functions!"
   ]
  },
  {
   "cell_type": "code",
   "execution_count": null,
   "metadata": {
    "collapsed": false,
    "scrolled": false
   },
   "outputs": [],
   "source": [
    "k = tks0_100['k (h/Mpc)']*cosmo[500].h()\n",
    "plt.loglog(\n",
    "           k,np.abs((tks0_500['L_prime']- k*tks0_500['L']) *(tks0_500['L_prime'] - k*tks0_500['L']) /k/k/k \n",
    "                    - tks0_500['L_prime']*tks0_500['L_prime'] /k/k/k),'r',\n",
    "           k,np.abs((tks0_100['L_prime']- k*tks0_100['L']) *(tks0_100['L_prime'] - k*tks0_100['L']) /k/k/k \n",
    "                    - tks0_100['L_prime']*tks0_100['L_prime'] /k/k/k),'r--',\n",
    "           k,np.abs((tks0_50['L_prime']- k*tks0_50['L']) *(tks0_50['L_prime'] - k*tks0_50['L']) /k/k/k \n",
    "                    - tks0_50['L_prime']*tks0_50['L_prime'] /k/k/k),'r:',\n",
    "           k,np.abs((tks0_0['L_prime']) *(tks0_0['L_prime'] ) /k/k/k),'b'\n",
    "            )\n",
    "plt.ylim([10000000,5000000000000])\n",
    "plt.xlim([0.0001,1])"
   ]
  },
  {
   "cell_type": "code",
   "execution_count": null,
   "metadata": {
    "collapsed": false
   },
   "outputs": [],
   "source": [
    "k = tks0_100['k (h/Mpc)']*cosmo[500].h()\n",
    "plt.loglog(\n",
    "           k,np.abs(((tks0_500['L_prime']- k*tks0_500['L']) *(tks0_500['L_prime'] - k*tks0_500['L']) /k/k/k \n",
    "                    - (tks0_0['L_prime']) *(tks0_0['L_prime'] ) /k/k/k)/\n",
    "                    ((tks0_0['L_prime']) *(tks0_0['L_prime'] ) /k/k/k)),'b',\n",
    "            k,np.abs(((tks0_50['L_prime']- k*tks0_50['L']) *(tks0_50['L_prime'] - k*tks0_50['L']) /k/k/k \n",
    "                    - (tks0_0['L_prime']) *(tks0_0['L_prime'] ) /k/k/k)/\n",
    "                    ((tks0_0['L_prime']) *(tks0_0['L_prime'] ) /k/k/k)),'orange',\n",
    "            k,np.abs(((tks0_100['L_prime']- k*tks0_100['L']) *(tks0_100['L_prime'] - k*tks0_100['L']) /k/k/k \n",
    "                    - (tks0_0['L_prime']) *(tks0_0['L_prime'] ) /k/k/k)/\n",
    "                    ((tks0_0['L_prime']) *(tks0_0['L_prime'] ) /k/k/k)),'g',\n",
    "            k,np.abs(((tks0_1000['L_prime']- k*tks0_1000['L']) *(tks0_1000['L_prime'] - k*tks0_1000['L']) /k/k/k \n",
    "                    - (tks0_0['L_prime']) *(tks0_0['L_prime'] ) /k/k/k)/\n",
    "                    ((tks0_0['L_prime']) *(tks0_0['L_prime'] ) /k/k/k)),'r'\n",
    "          \n",
    "            )\n",
    "plt.ylim([0.0000001,0.3])\n",
    "plt.xlim([0.0001,1])"
   ]
  },
  {
   "cell_type": "code",
   "execution_count": null,
   "metadata": {
    "collapsed": false
   },
   "outputs": [],
   "source": [
    "k = tks0_100['k (h/Mpc)']*cosmo[500].h()\n",
    "plt.loglog(\n",
    "           k,np.abs(((tks0_500['L_prime']- k*tks0_500['L']) *(tks0_500['L_prime'] - k*tks0_500['L']) /k/k/k \n",
    "                    - (tks0_0['L_prime']) *(tks0_0['L_prime'] ) /k/k/k)/\n",
    "                    ((tks0_0['L_prime']) *(tks0_0['L_prime'] ) /k/k/k)),'b',\n",
    "            k,np.abs(((tks0_50['L_prime']- k*tks0_50['L']) *(tks0_50['L_prime'] - k*tks0_50['L']) /k/k/k \n",
    "                    - (tks0_0['L_prime']) *(tks0_0['L_prime'] ) /k/k/k)/\n",
    "                    ((tks0_0['L_prime']) *(tks0_0['L_prime'] ) /k/k/k)),'orange',\n",
    "            k,np.abs(((tks0_100['L_prime']- k*tks0_100['L']) *(tks0_100['L_prime'] - k*tks0_100['L']) /k/k/k \n",
    "                    - (tks0_0['L_prime']) *(tks0_0['L_prime'] ) /k/k/k)/\n",
    "                    ((tks0_0['L_prime']) *(tks0_0['L_prime'] ) /k/k/k)),'g',\n",
    "            k,np.abs(((tks0_1000['L_prime']- k*tks0_1000['L']) *(tks0_1000['L_prime'] - k*tks0_1000['L']) /k/k/k \n",
    "                    - (tks0_0['L_prime']) *(tks0_0['L_prime'] ) /k/k/k)/\n",
    "                    ((tks0_0['L_prime']) *(tks0_0['L_prime'] ) /k/k/k)),'r'\n",
    "          \n",
    "            )\n",
    "plt.ylim([0.0000001,0.3])\n",
    "plt.xlim([0.0001,1])"
   ]
  },
  {
   "cell_type": "code",
   "execution_count": null,
   "metadata": {
    "collapsed": false
   },
   "outputs": [],
   "source": [
    "pts0 = cosmo[0].get_perturbations()['scalar']\n",
    "pts100 = cosmo[100].get_perturbations()['scalar']\n",
    "pts500 = cosmo[500].get_perturbations()['scalar']\n",
    "print len(pts0)\n",
    "xx = 3\n",
    "pt0 = pts0[xx]\n",
    "pt100 = pts100[xx]\n",
    "pt500 = pts500[xx]\n",
    "print pt100.viewkeys()"
   ]
  },
  {
   "cell_type": "code",
   "execution_count": null,
   "metadata": {
    "collapsed": false
   },
   "outputs": [],
   "source": [
    "tau = pt100['tau [Mpc]']\n",
    "plt.loglog(np.abs(tau),np.abs(pt100['L']),np.abs(tau),np.abs(pt100['L_prime']))\n",
    "plt.ylim([0.00001,1000])\n",
    "plt.xlim([400,14000])"
   ]
  },
  {
   "cell_type": "code",
   "execution_count": null,
   "metadata": {
    "collapsed": false
   },
   "outputs": [],
   "source": [
    "tau100 = pt100['a']\n",
    "tau500 = pt500['a']\n",
    "tau0 = pt0['a']\n",
    "\n",
    "plt.loglog(\n",
    "           np.abs(tau500),np.abs(pt500['delta_N']),'y:', \n",
    "           np.abs(tau100),np.abs(pt100['delta_N']),'y--',\n",
    "           np.abs(tau0),np.abs(pt0['delta_N']),'y', \n",
    "           np.abs(tau100),np.abs(pt100['H_L_nm']),'r--',\n",
    "           np.abs(tau100),np.abs(pt100['H_T_nm']),'b--',\n",
    "           np.abs(tau0),np.abs(pt0['A_nm']),'g',\n",
    "           np.abs(tau0),np.abs(pt0['B_nm']),'brown',\n",
    "           np.abs(tau0),np.abs(pt0['H_T_nm']),'b',\n",
    "           np.abs(tau500),np.abs(pt500['H_L_nm']),'r:',\n",
    "           np.abs(tau500),np.abs(pt500['H_T_nm']),'b:'\n",
    "          )\n",
    "\n",
    "plt.ylim([0.0000000001,100000])\n",
    "plt.xlim([0.0001,1])"
   ]
  },
  {
   "cell_type": "code",
   "execution_count": null,
   "metadata": {
    "collapsed": false
   },
   "outputs": [],
   "source": [
    "\n",
    "plt.loglog(\n",
    "           np.abs(tau500),np.abs(pt500['H_L_nm'])*30,'y:', \n",
    "           np.abs(tau100),np.abs(pt100['H_L_nm'])*30,'y',\n",
    "           np.abs(tau500),np.abs(pt500['L']),\n",
    "           np.abs(tau100),np.abs(pt100['L'])\n",
    "          )\n",
    "\n",
    "plt.ylim([0.000001,1000])\n",
    "plt.xlim([0.00001,1])"
   ]
  },
  {
   "cell_type": "code",
   "execution_count": null,
   "metadata": {
    "collapsed": false
   },
   "outputs": [],
   "source": [
    "pm"
   ]
  },
  {
   "cell_type": "code",
   "execution_count": null,
   "metadata": {
    "collapsed": false
   },
   "outputs": [],
   "source": [
    "k0 = tks0_0['k (h/Mpc)']*h\n",
    "factor = 2*np.pi**2*pk_prim(k)/k**3\n",
    "Pk0 = factor*tks0_0['L_prime']**2\n",
    "\n",
    "k1,Pk1 = get_H_L_contribution(tks0_500)\n",
    "k2,Pk2 = get_H_L_contribution(tks0_100)\n",
    "k3,Pk3 = get_H_L_contribution(tks0_50)\n",
    "\n",
    "s = np.vstack((k1,Pk0,Pk1,Pk2,Pk3))\n",
    "s = s.T\n",
    "\n",
    "np.savetxt('AbsDiffPk.dat',s)\n",
    "\n",
    "plt.loglog(s[:,0],s[:,1:])"
   ]
  },
  {
   "cell_type": "code",
   "execution_count": null,
   "metadata": {
    "collapsed": true
   },
   "outputs": [],
   "source": []
  }
 ],
 "metadata": {
  "kernelspec": {
   "display_name": "Python 2",
   "language": "python",
   "name": "python2"
  },
  "language_info": {
   "codemirror_mode": {
    "name": "ipython",
    "version": 2
   },
   "file_extension": ".py",
   "mimetype": "text/x-python",
   "name": "python",
   "nbconvert_exporter": "python",
   "pygments_lexer": "ipython2",
   "version": "2.7.10"
  }
 },
 "nbformat": 4,
 "nbformat_minor": 0
}
