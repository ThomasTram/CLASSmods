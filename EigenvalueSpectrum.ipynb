{
 "cells": [
  {
   "cell_type": "code",
   "execution_count": 2,
   "metadata": {
    "collapsed": true
   },
   "outputs": [],
   "source": [
    "%matplotlib inline\n",
    "import matplotlib\n",
    "import matplotlib.pyplot as plt\n",
    "import numpy as np\n",
    "from classy import Class"
   ]
  },
  {
   "cell_type": "code",
   "execution_count": 3,
   "metadata": {
    "collapsed": true
   },
   "outputs": [],
   "source": [
    "font = {'size'   : 20, 'family':'STIXGeneral'}\n",
    "axislabelfontsize='large'\n",
    "matplotlib.rc('font', **font)\n",
    "matplotlib.mathtext.rcParams['legend.fontsize']='medium'"
   ]
  },
  {
   "cell_type": "code",
   "execution_count": 15,
   "metadata": {
    "collapsed": false
   },
   "outputs": [
    {
     "name": "stdout",
     "output_type": "stream",
     "text": [
      " False\n",
      "1.75952705386 1.55576348959\n",
      "False\n",
      "0.049556374885 0.0438174556926\n",
      "False\n",
      "-0.118074430152 -0.104400717841\n",
      "False\n",
      "-0.0875192955436 -0.0773840472316\n",
      "False\n",
      "-0.0496136366298 -0.0438680861911\n",
      "False\n",
      "-0.0244919454205 -0.0216556343312\n",
      "False\n",
      "-0.0104233642208 -0.00921627744106\n",
      "False\n",
      "-0.00329914618774 -0.00291708568756\n",
      "False\n",
      "-5.58863747813e-05 -4.9414404433e-05\n"
     ]
    },
    {
     "data": {
      "image/png": "[encoded data removed]",
      "text/plain": [
       "<matplotlib.figure.Figure at 0x108d38150>"
      ]
     },
     "metadata": {},
     "output_type": "display_data"
    }
   ],
   "source": [
    "q = np.linspace(0.1,10,100)\n",
    "#q = np.array([0.01+i*0.07 for i in range(201)])\n",
    "#print q\n",
    "\n",
    "lmax = 10\n",
    "cosmo = Class()\n",
    "Z = cosmo.compute_Zl_massive(q,lmax)\n",
    "\n",
    "f, axes = plt.subplots(3,3,sharex=True,sharey=True,figsize=(10,10))\n",
    "[Q, Qpr] = np.meshgrid(q,q)\n",
    "l = 0\n",
    "for i in range(3):\n",
    "    for j in range(3):\n",
    "        ax = axes[i][j]\n",
    "        arr = Z[l].T*np.exp(Q)\n",
    "        ax.pcolormesh(q,q,Z[l].T*np.exp(Q))\n",
    "        print np.allclose(arr.T, arr)\n",
    "        print arr[2,4],arr[4,2]\n",
    "        l = l+1"
   ]
  },
  {
   "cell_type": "code",
   "execution_count": 18,
   "metadata": {
    "collapsed": false
   },
   "outputs": [
    {
     "name": "stdout",
     "output_type": "stream",
     "text": [
      "Eigenvalues, l=0: [ 0.03708413+0.j]\n",
      "Imaginarity, l=0: [-0. -0. -0. -0. -0.  0. -0. -0. -0. -0. -0. -0. -0. -0. -0. -0. -0. -0.\n",
      " -0. -0. -0. -0. -0. -0. -0. -0. -0. -0. -0. -0. -0. -0. -0. -0. -0. -0.\n",
      " -0. -0. -0. -0. -0. -0. -0. -0. -0. -0. -0. -0. -0. -0. -0. -0. -0. -0.\n",
      " -0. -0. -0. -0. -0. -0. -0. -0. -0. -0. -0. -0. -0. -0. -0. -0. -0. -0.\n",
      " -0. -0. -0. -0. -0. -0. -0. -0. -0. -0. -0. -0. -0. -0. -0. -0. -0. -0.\n",
      " -0. -0. -0. -0. -0. -0. -0. -0. -0. -0.]\n",
      "Eigenvalues, l=1: []\n",
      "Imaginarity, l=1: [-0. -0. -0. -0. -0. -0. -0. -0. -0. -0. -0. -0. -0. -0. -0. -0. -0. -0.\n",
      " -0. -0. -0. -0. -0. -0. -0. -0. -0. -0. -0. -0. -0. -0. -0. -0. -0. -0.\n",
      " -0. -0. -0. -0. -0. -0. -0. -0. -0. -0. -0. -0. -0. -0. -0. -0. -0. -0.\n",
      " -0. -0. -0. -0. -0. -0. -0. -0. -0. -0. -0. -0. -0. -0. -0. -0. -0. -0.\n",
      " -0. -0. -0. -0. -0. -0. -0. -0. -0. -0. -0. -0. -0. -0. -0. -0. -0. -0.\n",
      " -0. -0. -0. -0. -0. -0. -0. -0. -0. -0.]\n",
      "Eigenvalues, l=2: []\n",
      "Imaginarity, l=2: [-0. -0. -0. -0. -0. -0. -0. -0. -0. -0. -0. -0. -0. -0. -0. -0. -0. -0.\n",
      " -0. -0. -0. -0. -0. -0. -0. -0. -0. -0. -0. -0. -0. -0. -0. -0. -0. -0.\n",
      " -0. -0. -0. -0. -0. -0. -0. -0. -0. -0. -0. -0. -0. -0. -0. -0. -0. -0.\n",
      " -0. -0. -0. -0. -0. -0. -0. -0. -0. -0. -0. -0. -0. -0. -0. -0. -0. -0.\n",
      " -0. -0. -0. -0. -0. -0. -0. -0. -0. -0. -0. -0. -0. -0. -0. -0. -0. -0.\n",
      " -0. -0. -0. -0. -0. -0. -0. -0. -0. -0.]\n",
      "Eigenvalues, l=3: []\n",
      "Imaginarity, l=3: [-0. -0. -0. -0. -0. -0. -0. -0. -0. -0. -0. -0. -0. -0. -0. -0. -0. -0.\n",
      " -0. -0. -0. -0. -0. -0. -0. -0. -0. -0. -0. -0. -0. -0. -0. -0. -0. -0.\n",
      " -0. -0. -0. -0. -0. -0. -0. -0. -0. -0. -0. -0. -0. -0. -0. -0. -0. -0.\n",
      " -0. -0. -0. -0. -0. -0. -0. -0. -0. -0. -0. -0. -0. -0. -0. -0. -0. -0.\n",
      " -0. -0. -0. -0. -0. -0. -0. -0. -0. -0. -0. -0. -0. -0. -0. -0. -0. -0.\n",
      " -0. -0. -0. -0. -0. -0. -0. -0. -0. -0.]\n",
      "Eigenvalues, l=4: []\n",
      "Imaginarity, l=4: [-0. -0. -0. -0. -0. -0. -0. -0. -0. -0. -0. -0. -0. -0. -0. -0. -0. -0.\n",
      " -0. -0. -0. -0. -0. -0. -0. -0. -0. -0. -0. -0. -0. -0. -0. -0. -0. -0.\n",
      " -0. -0. -0. -0. -0. -0. -0. -0. -0. -0. -0. -0. -0. -0. -0. -0. -0. -0.\n",
      " -0. -0. -0. -0. -0. -0. -0. -0. -0. -0. -0. -0. -0. -0. -0. -0. -0. -0.\n",
      " -0. -0. -0. -0. -0. -0. -0. -0. -0. -0. -0. -0. -0. -0. -0. -0. -0. -0.\n",
      " -0. -0. -0. -0. -0. -0. -0. -0. -0. -0.]\n",
      "Eigenvalues, l=5: []\n",
      "Imaginarity, l=5: [-0. -0. -0. -0. -0. -0. -0. -0. -0. -0. -0. -0. -0. -0. -0. -0. -0. -0.\n",
      " -0. -0. -0. -0. -0. -0. -0. -0. -0. -0. -0. -0. -0. -0. -0. -0. -0. -0.\n",
      " -0. -0. -0. -0. -0. -0. -0. -0. -0. -0. -0. -0. -0. -0. -0. -0. -0. -0.\n",
      " -0. -0. -0. -0. -0. -0. -0. -0. -0. -0. -0. -0. -0. -0. -0. -0. -0. -0.\n",
      " -0. -0. -0. -0. -0. -0. -0. -0. -0. -0. -0. -0. -0. -0. -0. -0. -0. -0.\n",
      " -0. -0. -0. -0. -0. -0. -0. -0. -0. -0.]\n",
      "Eigenvalues, l=6: []\n",
      "Imaginarity, l=6: [-0. -0. -0. -0. -0. -0. -0. -0. -0. -0. -0. -0. -0. -0. -0. -0. -0. -0.\n",
      " -0. -0. -0. -0. -0. -0. -0. -0. -0. -0. -0. -0. -0. -0. -0. -0. -0. -0.\n",
      " -0. -0. -0. -0. -0. -0. -0. -0. -0. -0. -0. -0. -0. -0. -0. -0. -0. -0.\n",
      " -0. -0. -0. -0. -0. -0. -0. -0. -0. -0. -0. -0. -0. -0. -0. -0. -0. -0.\n",
      " -0. -0. -0. -0. -0. -0. -0. -0. -0. -0. -0. -0. -0. -0. -0. -0. -0. -0.\n",
      " -0. -0. -0. -0. -0. -0. -0. -0. -0. -0.]\n",
      "Eigenvalues, l=7: []\n",
      "Imaginarity, l=7: [-0. -0. -0. -0. -0. -0. -0. -0. -0. -0. -0. -0. -0. -0. -0. -0. -0. -0.\n",
      " -0. -0. -0. -0. -0. -0. -0. -0. -0. -0. -0. -0. -0. -0. -0. -0. -0. -0.\n",
      " -0. -0. -0. -0. -0. -0. -0. -0. -0. -0. -0. -0. -0. -0. -0. -0. -0. -0.\n",
      " -0. -0. -0. -0. -0. -0. -0. -0. -0. -0. -0. -0. -0. -0. -0. -0. -0. -0.\n",
      " -0. -0. -0. -0. -0. -0. -0. -0. -0. -0. -0. -0. -0. -0. -0. -0. -0. -0.\n",
      " -0. -0. -0. -0. -0. -0. -0. -0. -0. -0.]\n",
      "Eigenvalues, l=8: []\n",
      "Imaginarity, l=8: [-0. -0. -0. -0. -0. -0. -0. -0. -0. -0. -0. -0. -0. -0. -0. -0. -0. -0.\n",
      " -0. -0. -0. -0. -0. -0. -0. -0. -0. -0. -0. -0. -0. -0. -0. -0. -0. -0.\n",
      " -0. -0. -0. -0. -0. -0. -0. -0. -0. -0. -0. -0. -0. -0. -0. -0. -0. -0.\n",
      " -0. -0. -0. -0. -0. -0. -0. -0. -0. -0. -0. -0. -0. -0. -0. -0. -0. -0.\n",
      " -0. -0. -0. -0. -0. -0. -0. -0. -0. -0. -0. -0. -0. -0. -0. -0. -0. -0.\n",
      " -0. -0. -0. -0. -0. -0. -0. -0. -0. -0.]\n",
      "Eigenvalues, l=9: []\n",
      "Imaginarity, l=9: [-0. -0. -0. -0. -0. -0. -0. -0. -0. -0. -0. -0. -0. -0. -0. -0. -0. -0.\n",
      " -0. -0. -0. -0. -0. -0. -0. -0. -0. -0. -0. -0. -0. -0. -0. -0. -0. -0.\n",
      " -0. -0. -0. -0. -0. -0. -0. -0. -0. -0. -0. -0. -0. -0. -0. -0. -0. -0.\n",
      " -0. -0. -0. -0. -0. -0. -0. -0. -0. -0. -0. -0. -0. -0. -0. -0. -0. -0.\n",
      " -0. -0. -0. -0. -0. -0. -0. -0. -0. -0. -0. -0. -0. -0. -0. -0. -0. -0.\n",
      " -0. -0. -0. -0. -0. -0. -0. -0. -0. -0.]\n",
      "Eigenvalues, l=10: []\n",
      "Imaginarity, l=10: [-0. -0. -0. -0. -0. -0. -0. -0. -0. -0. -0. -0. -0. -0. -0. -0. -0. -0.\n",
      " -0. -0. -0. -0. -0. -0. -0. -0. -0. -0. -0. -0. -0. -0. -0. -0. -0. -0.\n",
      " -0. -0. -0. -0. -0. -0. -0. -0. -0. -0. -0. -0. -0. -0. -0. -0. -0. -0.\n",
      " -0. -0. -0. -0. -0. -0. -0. -0. -0. -0. -0. -0. -0. -0. -0. -0. -0. -0.\n",
      " -0. -0. -0. -0. -0. -0. -0. -0. -0. -0. -0. -0. -0. -0. -0. -0. -0. -0.\n",
      " -0. -0. -0. -0. -0. -0. -0. -0. -0. -0.]\n"
     ]
    }
   ],
   "source": [
    "import scipy\n",
    "import scipy.linalg as la\n",
    "def inu_dist(q):\n",
    "    return np.exp(-q)\n",
    "\n",
    "def weights(q):\n",
    "    f0 = inu_dist(q)\n",
    "    dq = q[1]-q[0]\n",
    "    w = f0*dq\n",
    "    w[0] = w[0]*0.5\n",
    "    w[-1] = w[-1]*0.5\n",
    "    return w\n",
    "    \n",
    "Nq = 100\n",
    "q = np.linspace(0.1,12,Nq)\n",
    "lmax = 10\n",
    "cosmo = Class()\n",
    "Z = cosmo.compute_Zl_massive(q,lmax)\n",
    "\n",
    "C3term = -40./3*np.diag(q)\n",
    "f0invmat = np.diag(1./inu_dist(q))\n",
    "wmat = np.diag(weights(q))\n",
    "\n",
    "for l in range(lmax+1):\n",
    "    Zterm = np.dot(f0invmat,np.dot(Z[l],wmat))\n",
    "\n",
    "    fullmat = C3term+Zterm\n",
    "    L = la.eig(fullmat,right=False)\n",
    "    print 'Eigenvalues, l='+str(l)+':',L[np.real(L)>0]\n",
    "    print 'Imaginarity, l='+str(l)+':',np.imag(L)/np.real(L)\n",
    "\n"
   ]
  },
  {
   "cell_type": "code",
   "execution_count": 45,
   "metadata": {
    "collapsed": false
   },
   "outputs": [
    {
     "name": "stdout",
     "output_type": "stream",
     "text": [
      "Eigenvalues, l=0: [ -1.59945070e+02+0.j  -1.59569319e+02+0.j  -1.59231024e+02+0.j\n",
      "  -1.58898054e+02+0.j  -1.58567673e+02+0.j  -1.58238900e+02+0.j\n",
      "  -1.57911249e+02+0.j  -1.57584440e+02+0.j  -1.57258290e+02+0.j\n",
      "  -1.56932676e+02+0.j  -1.56607508e+02+0.j  -1.56282719e+02+0.j\n",
      "  -1.55958258e+02+0.j  -1.55634083e+02+0.j  -1.55310161e+02+0.j\n",
      "  -1.54986466e+02+0.j  -1.54662974e+02+0.j  -1.54339667e+02+0.j\n",
      "  -1.54016528e+02+0.j  -1.53693544e+02+0.j  -1.53370702e+02+0.j\n",
      "  -1.53047991e+02+0.j  -1.52725403e+02+0.j  -1.52080562e+02+0.j\n",
      "  -1.52402929e+02+0.j   3.87305700e-04+0.j  -1.31605464e+00+0.j\n",
      "  -1.44068039e+00+0.j  -1.62571160e+00+0.j  -1.93416816e+00+0.j]\n"
     ]
    }
   ],
   "source": [
    "for l in range(1):\n",
    "    Zterm = np.dot(f0invmat,np.dot(Z[l],wmat))\n",
    "\n",
    "    fullmat = C3term+Zterm\n",
    "    L = la.eig(fullmat,right=False)\n",
    "    print 'Eigenvalues, l='+str(l)+':',L[:30]"
   ]
  },
  {
   "cell_type": "code",
   "execution_count": 23,
   "metadata": {
    "collapsed": false
   },
   "outputs": [
    {
     "name": "stdout",
     "output_type": "stream",
     "text": [
      "[[ 0.01020533  0.11475939  0.16715954]\n",
      " [ 0.08372453  0.83044655  0.04696512]\n",
      " [ 0.08657975  0.53497669  0.22279731]]\n",
      "[[ 0.01020533  0.66904326  0.27637142]\n",
      " [ 0.01436107  0.83044655  0.21370278]\n",
      " [ 0.0523666   0.11757097  0.22279731]]\n"
     ]
    }
   ],
   "source": [
    "\n",
    "D1 = np.diag(np.diagonal(np.random.rand(3,3)))\n",
    "A2 = np.random.rand(3,3)\n",
    "D2 = np.diag(np.diagonal(np.random.rand(3,3)))\n",
    "\n",
    "print np.dot(D1,np.dot(A2,D2))\n",
    "print np.dot(A2.T,np.dot(D1,D2))\n"
   ]
  },
  {
   "cell_type": "code",
   "execution_count": 18,
   "metadata": {
    "collapsed": false
   },
   "outputs": [
    {
     "data": {
      "text/plain": [
       "array([[ 0.85550211,  0.        ,  0.        ],\n",
       "       [ 0.        ,  0.44563272,  0.        ],\n",
       "       [ 0.        ,  0.        ,  0.58516463]])"
      ]
     },
     "execution_count": 18,
     "metadata": {},
     "output_type": "execute_result"
    }
   ],
   "source": [
    "A=np.random.rand(3,3)\n",
    "np.diag(np.diagonal(A))"
   ]
  },
  {
   "cell_type": "code",
   "execution_count": null,
   "metadata": {
    "collapsed": true
   },
   "outputs": [],
   "source": []
  }
 ],
 "metadata": {
  "kernelspec": {
   "display_name": "Python 2",
   "language": "python",
   "name": "python2"
  },
  "language_info": {
   "codemirror_mode": {
    "name": "ipython",
    "version": 2
   },
   "file_extension": ".py",
   "mimetype": "text/x-python",
   "name": "python",
   "nbconvert_exporter": "python",
   "pygments_lexer": "ipython2",
   "version": "2.7.10"
  }
 },
 "nbformat": 4,
 "nbformat_minor": 0
}
