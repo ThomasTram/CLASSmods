{
 "metadata": {
  "name": "",
  "signature": "sha256:623eb16bbd1992691234b2ac6b7c40c7e3c6e022cd2cba5139463fd5b6be214b"
 },
 "nbformat": 3,
 "nbformat_minor": 0,
 "worksheets": []
}