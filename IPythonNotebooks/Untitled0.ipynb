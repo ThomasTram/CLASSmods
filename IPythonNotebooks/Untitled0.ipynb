{
 "metadata": {
  "name": "",
  "signature": "sha256:4da147ff8dbf3bbe6179eb099d8a29e2f03070d163960fce53277fe321dfed0a"
 },
 "nbformat": 3,
 "nbformat_minor": 0,
 "worksheets": [
  {
   "cells": [
    {
     "cell_type": "code",
     "collapsed": false,
     "input": [
      "N=10\n",
      "k=4.0\n",
      "\n",
      "yvec = []\n",
      "for n in range(N):\n",
      "    yvec.append(sin(2*k*pi*float(n)/(float(N))))\n",
      "\n",
      "YY = fft.rfftn(yvec)\n",
      "print YY\n",
      "    "
     ],
     "language": "python",
     "metadata": {},
     "outputs": [
      {
       "output_type": "stream",
       "stream": "stdout",
       "text": [
        "[  6.66133815e-16 +0.00000000e+00j  -8.21474770e-16 +8.88178420e-16j\n",
        "   1.38862689e-15 -8.35760799e-16j  -3.00788860e-16 +1.38468525e-15j\n",
        "  -8.21474770e-16 -5.00000000e+00j   4.44089210e-16 +0.00000000e+00j]\n"
       ]
      }
     ],
     "prompt_number": 33
    },
    {
     "cell_type": "code",
     "collapsed": false,
     "input": [],
     "language": "python",
     "metadata": {},
     "outputs": []
    }
   ],
   "metadata": {}
  }
 ]
}